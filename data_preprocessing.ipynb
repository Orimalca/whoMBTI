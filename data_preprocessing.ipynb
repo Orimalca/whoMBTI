{
  "cells": [
    {
      "cell_type": "markdown",
      "metadata": {
        "id": "iVCmLfqI7vuW"
      },
      "source": [
        "# Utils"
      ]
    },
    {
      "cell_type": "markdown",
      "metadata": {
        "id": "hDgZZiJp7332"
      },
      "source": [
        "## Download Libraries"
      ]
    },
    {
      "cell_type": "code",
      "execution_count": null,
      "metadata": {
        "colab": {
          "base_uri": "https://localhost:8080/"
        },
        "id": "BSk56qeFR4tN",
        "outputId": "edf804b3-b182-4645-d9a9-f677387be422"
      },
      "outputs": [
        {
          "output_type": "stream",
          "name": "stdout",
          "text": [
            "Looking in indexes: https://pypi.org/simple, https://us-python.pkg.dev/colab-wheels/public/simple/\n",
            "Collecting redditcleaner\n",
            "  Downloading redditcleaner-1.1.2-py3-none-any.whl (4.7 kB)\n",
            "Installing collected packages: redditcleaner\n",
            "Successfully installed redditcleaner-1.1.2\n",
            "Looking in indexes: https://pypi.org/simple, https://us-python.pkg.dev/colab-wheels/public/simple/\n",
            "Collecting contractions\n",
            "  Downloading contractions-0.1.73-py2.py3-none-any.whl (8.7 kB)\n",
            "Collecting textsearch>=0.0.21\n",
            "  Downloading textsearch-0.0.24-py2.py3-none-any.whl (7.6 kB)\n",
            "Collecting anyascii\n",
            "  Downloading anyascii-0.3.2-py3-none-any.whl (289 kB)\n",
            "\u001b[2K     \u001b[90m━━━━━━━━━━━━━━━━━━━━━━━━━━━━━━━━━━━━━━━\u001b[0m \u001b[32m289.9/289.9 kB\u001b[0m \u001b[31m6.3 MB/s\u001b[0m eta \u001b[36m0:00:00\u001b[0m\n",
            "\u001b[?25hCollecting pyahocorasick\n",
            "  Downloading pyahocorasick-2.0.0-cp39-cp39-manylinux_2_5_x86_64.manylinux1_x86_64.whl (103 kB)\n",
            "\u001b[2K     \u001b[90m━━━━━━━━━━━━━━━━━━━━━━━━━━━━━━━━━━━━━━\u001b[0m \u001b[32m103.2/103.2 kB\u001b[0m \u001b[31m12.7 MB/s\u001b[0m eta \u001b[36m0:00:00\u001b[0m\n",
            "\u001b[?25hInstalling collected packages: pyahocorasick, anyascii, textsearch, contractions\n",
            "Successfully installed anyascii-0.3.2 contractions-0.1.73 pyahocorasick-2.0.0 textsearch-0.0.24\n",
            "Looking in indexes: https://pypi.org/simple, https://us-python.pkg.dev/colab-wheels/public/simple/\n",
            "Collecting openai\n",
            "  Downloading openai-0.27.4-py3-none-any.whl (70 kB)\n",
            "\u001b[2K     \u001b[90m━━━━━━━━━━━━━━━━━━━━━━━━━━━━━━━━━━━━━━━━\u001b[0m \u001b[32m70.3/70.3 kB\u001b[0m \u001b[31m2.9 MB/s\u001b[0m eta \u001b[36m0:00:00\u001b[0m\n",
            "\u001b[?25hRequirement already satisfied: requests>=2.20 in /usr/local/lib/python3.9/dist-packages (from openai) (2.27.1)\n",
            "Requirement already satisfied: tqdm in /usr/local/lib/python3.9/dist-packages (from openai) (4.65.0)\n",
            "Collecting aiohttp\n",
            "  Downloading aiohttp-3.8.4-cp39-cp39-manylinux_2_17_x86_64.manylinux2014_x86_64.whl (1.0 MB)\n",
            "\u001b[2K     \u001b[90m━━━━━━━━━━━━━━━━━━━━━━━━━━━━━━━━━━━━━━━━\u001b[0m \u001b[32m1.0/1.0 MB\u001b[0m \u001b[31m17.6 MB/s\u001b[0m eta \u001b[36m0:00:00\u001b[0m\n",
            "\u001b[?25hRequirement already satisfied: charset-normalizer~=2.0.0 in /usr/local/lib/python3.9/dist-packages (from requests>=2.20->openai) (2.0.12)\n",
            "Requirement already satisfied: urllib3<1.27,>=1.21.1 in /usr/local/lib/python3.9/dist-packages (from requests>=2.20->openai) (1.26.15)\n",
            "Requirement already satisfied: certifi>=2017.4.17 in /usr/local/lib/python3.9/dist-packages (from requests>=2.20->openai) (2022.12.7)\n",
            "Requirement already satisfied: idna<4,>=2.5 in /usr/local/lib/python3.9/dist-packages (from requests>=2.20->openai) (3.4)\n",
            "Collecting aiosignal>=1.1.2\n",
            "  Downloading aiosignal-1.3.1-py3-none-any.whl (7.6 kB)\n",
            "Collecting yarl<2.0,>=1.0\n",
            "  Downloading yarl-1.9.1-cp39-cp39-manylinux_2_17_x86_64.manylinux2014_x86_64.whl (269 kB)\n",
            "\u001b[2K     \u001b[90m━━━━━━━━━━━━━━━━━━━━━━━━━━━━━━━━━━━━━━\u001b[0m \u001b[32m269.3/269.3 kB\u001b[0m \u001b[31m26.9 MB/s\u001b[0m eta \u001b[36m0:00:00\u001b[0m\n",
            "\u001b[?25hCollecting multidict<7.0,>=4.5\n",
            "  Downloading multidict-6.0.4-cp39-cp39-manylinux_2_17_x86_64.manylinux2014_x86_64.whl (114 kB)\n",
            "\u001b[2K     \u001b[90m━━━━━━━━━━━━━━━━━━━━━━━━━━━━━━━━━━━━━━\u001b[0m \u001b[32m114.2/114.2 kB\u001b[0m \u001b[31m14.0 MB/s\u001b[0m eta \u001b[36m0:00:00\u001b[0m\n",
            "\u001b[?25hCollecting frozenlist>=1.1.1\n",
            "  Downloading frozenlist-1.3.3-cp39-cp39-manylinux_2_5_x86_64.manylinux1_x86_64.manylinux_2_17_x86_64.manylinux2014_x86_64.whl (158 kB)\n",
            "\u001b[2K     \u001b[90m━━━━━━━━━━━━━━━━━━━━━━━━━━━━━━━━━━━━━━\u001b[0m \u001b[32m158.8/158.8 kB\u001b[0m \u001b[31m17.4 MB/s\u001b[0m eta \u001b[36m0:00:00\u001b[0m\n",
            "\u001b[?25hCollecting async-timeout<5.0,>=4.0.0a3\n",
            "  Downloading async_timeout-4.0.2-py3-none-any.whl (5.8 kB)\n",
            "Requirement already satisfied: attrs>=17.3.0 in /usr/local/lib/python3.9/dist-packages (from aiohttp->openai) (23.1.0)\n",
            "Installing collected packages: multidict, frozenlist, async-timeout, yarl, aiosignal, aiohttp, openai\n",
            "Successfully installed aiohttp-3.8.4 aiosignal-1.3.1 async-timeout-4.0.2 frozenlist-1.3.3 multidict-6.0.4 openai-0.27.4 yarl-1.9.1\n"
          ]
        }
      ],
      "source": [
        "!pip install redditcleaner\n",
        "!pip install contractions\n",
        "!pip install --upgrade openai"
      ]
    },
    {
      "cell_type": "markdown",
      "source": [
        "## Imports"
      ],
      "metadata": {
        "id": "rJjGtmBC5v7i"
      }
    },
    {
      "cell_type": "code",
      "execution_count": null,
      "metadata": {
        "id": "Aa7ATjJxq1Js"
      },
      "outputs": [],
      "source": [
        "import pandas as pd\n",
        "import json\n",
        "import random\n",
        "import re\n",
        "import numpy as np\n",
        "import redditcleaner\n",
        "import gc\n",
        "import contractions\n",
        "from tqdm.notebook import tqdm\n",
        "import matplotlib.pyplot as plt\n",
        "from sklearn import metrics\n",
        "from sklearn.model_selection import train_test_split"
      ]
    },
    {
      "cell_type": "markdown",
      "metadata": {
        "id": "hbyZsMIW77Yv"
      },
      "source": [
        "## Environment Variables"
      ]
    },
    {
      "cell_type": "code",
      "execution_count": null,
      "metadata": {
        "id": "LRWNalYBcpEM"
      },
      "outputs": [],
      "source": [
        "# General parameters\n",
        "CLASSES = ['INTJ', 'INTP', 'INFJ', 'INFP',\n",
        "           'ENFP', 'ENTJ', 'ENFJ', 'ENTP',\n",
        "           'ESFP', 'ESTJ', 'ESFJ', 'ESTP',\n",
        "           'ISTP', 'ISFP', 'ISFJ', 'ISTJ']\n",
        "\n",
        "# Filepaths\n",
        "FILEPATH_TRAIN = '/content/data_train.jsonl'\n",
        "SHUFFLED_FILEPATH_TRAIN = '/content/shuffled_data_train.jsonl'\n",
        "FILEPATH_DF_TRAIN = '/content/mbti_train.csv'\n",
        "FILEPATH_DF_TEST = '/content/mbti_test.csv'\n",
        "FILEPATH_DF_TRAIN_WITH_INDEX = '/content/mbti_train_withIndex.csv'\n",
        "FILEPATH_DF_TEST_WITH_INDEX = '/content/mbti_test_withIndex.csv'\n",
        "FILEPATH_DF_EXTRA_TEST = '/content/mbti_extra_test.csv'\n",
        "FILEPATH_DF_EXTRA_TEST_WITH_INDEX = '/content/mbti_extra_test_withIndex.csv'\n",
        "Y_PRED_FILEPATH = '/content/j2-grande_y_pred.npy'\n",
        "Y_TRUE_FILEPATH = '/content/j2-grande_y_true.npy'\n",
        "\n",
        "# Training variables\n",
        "TEST_SIZE = 0.15\n",
        "TRAIN_SIZE = 0.85\n",
        "TAKE_SAMPLES = 1200\n",
        "PREFIX = 'based on MBTI classify the following text:\\n\\n'\n",
        "SUFFIX = '\\n\\nMBTI classification:'\n",
        "PROMPT_LEN = 22800 # 2047 tokens is approximately 6000 characters ===> 2047 * 4 = 8188 tokens is approximately 6000 * 4 = 22800 characters"
      ]
    },
    {
      "cell_type": "markdown",
      "metadata": {
        "id": "iboFn1SX8pKZ"
      },
      "source": [
        "# Data Preprocessing"
      ]
    },
    {
      "cell_type": "markdown",
      "metadata": {
        "id": "ctnHPY-l8e-z"
      },
      "source": [
        "## Download Dataset"
      ]
    },
    {
      "cell_type": "code",
      "execution_count": null,
      "metadata": {
        "id": "-Sz7wetDq94N"
      },
      "outputs": [],
      "source": [
        "%%capture\n",
        "!pip install -U --no-cache-dir gdown --pre\n",
        "!gdown --id 1q-6j41B1-ouCmGl9VUyctdWN_PUg4zfn"
      ]
    },
    {
      "cell_type": "markdown",
      "metadata": {
        "id": "vDnmTIcS8MaE"
      },
      "source": [
        "## Load Dataset"
      ]
    },
    {
      "cell_type": "code",
      "execution_count": null,
      "metadata": {
        "id": "IrlpNdXPseNU",
        "colab": {
          "base_uri": "https://localhost:8080/"
        },
        "outputId": "0625a4ff-8cab-49ee-9363-0ff9d9086a47"
      },
      "outputs": [
        {
          "output_type": "execute_result",
          "data": {
            "text/plain": [
              "8"
            ]
          },
          "metadata": {},
          "execution_count": 14
        }
      ],
      "source": [
        "data = pd.read_csv('/content/mbti_1.csv')\n",
        "gc.collect()"
      ]
    },
    {
      "cell_type": "markdown",
      "metadata": {
        "id": "sYOUxGtG9ACB"
      },
      "source": [
        "## Visualization of the dataset"
      ]
    },
    {
      "cell_type": "code",
      "source": [
        "data.head()"
      ],
      "metadata": {
        "id": "RsBhrsoJ6nQO",
        "colab": {
          "base_uri": "https://localhost:8080/",
          "height": 206
        },
        "outputId": "c0c5d4f7-f686-41bf-dd40-6f0bc63aaaa6"
      },
      "execution_count": null,
      "outputs": [
        {
          "output_type": "execute_result",
          "data": {
            "text/plain": [
              "   type                                              posts\n",
              "0  INFJ  'http://www.youtube.com/watch?v=qsXHcwe3krw|||...\n",
              "1  ENTP  'I'm finding the lack of me in these posts ver...\n",
              "2  INTP  'Good one  _____   https://www.youtube.com/wat...\n",
              "3  INTJ  'Dear INTP,   I enjoyed our conversation the o...\n",
              "4  ENTJ  'You're fired.|||That's another silly misconce..."
            ],
            "text/html": [
              "\n",
              "  <div id=\"df-06862641-326f-4801-ae07-b6f753741f7c\">\n",
              "    <div class=\"colab-df-container\">\n",
              "      <div>\n",
              "<style scoped>\n",
              "    .dataframe tbody tr th:only-of-type {\n",
              "        vertical-align: middle;\n",
              "    }\n",
              "\n",
              "    .dataframe tbody tr th {\n",
              "        vertical-align: top;\n",
              "    }\n",
              "\n",
              "    .dataframe thead th {\n",
              "        text-align: right;\n",
              "    }\n",
              "</style>\n",
              "<table border=\"1\" class=\"dataframe\">\n",
              "  <thead>\n",
              "    <tr style=\"text-align: right;\">\n",
              "      <th></th>\n",
              "      <th>type</th>\n",
              "      <th>posts</th>\n",
              "    </tr>\n",
              "  </thead>\n",
              "  <tbody>\n",
              "    <tr>\n",
              "      <th>0</th>\n",
              "      <td>INFJ</td>\n",
              "      <td>'http://www.youtube.com/watch?v=qsXHcwe3krw|||...</td>\n",
              "    </tr>\n",
              "    <tr>\n",
              "      <th>1</th>\n",
              "      <td>ENTP</td>\n",
              "      <td>'I'm finding the lack of me in these posts ver...</td>\n",
              "    </tr>\n",
              "    <tr>\n",
              "      <th>2</th>\n",
              "      <td>INTP</td>\n",
              "      <td>'Good one  _____   https://www.youtube.com/wat...</td>\n",
              "    </tr>\n",
              "    <tr>\n",
              "      <th>3</th>\n",
              "      <td>INTJ</td>\n",
              "      <td>'Dear INTP,   I enjoyed our conversation the o...</td>\n",
              "    </tr>\n",
              "    <tr>\n",
              "      <th>4</th>\n",
              "      <td>ENTJ</td>\n",
              "      <td>'You're fired.|||That's another silly misconce...</td>\n",
              "    </tr>\n",
              "  </tbody>\n",
              "</table>\n",
              "</div>\n",
              "      <button class=\"colab-df-convert\" onclick=\"convertToInteractive('df-06862641-326f-4801-ae07-b6f753741f7c')\"\n",
              "              title=\"Convert this dataframe to an interactive table.\"\n",
              "              style=\"display:none;\">\n",
              "        \n",
              "  <svg xmlns=\"http://www.w3.org/2000/svg\" height=\"24px\"viewBox=\"0 0 24 24\"\n",
              "       width=\"24px\">\n",
              "    <path d=\"M0 0h24v24H0V0z\" fill=\"none\"/>\n",
              "    <path d=\"M18.56 5.44l.94 2.06.94-2.06 2.06-.94-2.06-.94-.94-2.06-.94 2.06-2.06.94zm-11 1L8.5 8.5l.94-2.06 2.06-.94-2.06-.94L8.5 2.5l-.94 2.06-2.06.94zm10 10l.94 2.06.94-2.06 2.06-.94-2.06-.94-.94-2.06-.94 2.06-2.06.94z\"/><path d=\"M17.41 7.96l-1.37-1.37c-.4-.4-.92-.59-1.43-.59-.52 0-1.04.2-1.43.59L10.3 9.45l-7.72 7.72c-.78.78-.78 2.05 0 2.83L4 21.41c.39.39.9.59 1.41.59.51 0 1.02-.2 1.41-.59l7.78-7.78 2.81-2.81c.8-.78.8-2.07 0-2.86zM5.41 20L4 18.59l7.72-7.72 1.47 1.35L5.41 20z\"/>\n",
              "  </svg>\n",
              "      </button>\n",
              "      \n",
              "  <style>\n",
              "    .colab-df-container {\n",
              "      display:flex;\n",
              "      flex-wrap:wrap;\n",
              "      gap: 12px;\n",
              "    }\n",
              "\n",
              "    .colab-df-convert {\n",
              "      background-color: #E8F0FE;\n",
              "      border: none;\n",
              "      border-radius: 50%;\n",
              "      cursor: pointer;\n",
              "      display: none;\n",
              "      fill: #1967D2;\n",
              "      height: 32px;\n",
              "      padding: 0 0 0 0;\n",
              "      width: 32px;\n",
              "    }\n",
              "\n",
              "    .colab-df-convert:hover {\n",
              "      background-color: #E2EBFA;\n",
              "      box-shadow: 0px 1px 2px rgba(60, 64, 67, 0.3), 0px 1px 3px 1px rgba(60, 64, 67, 0.15);\n",
              "      fill: #174EA6;\n",
              "    }\n",
              "\n",
              "    [theme=dark] .colab-df-convert {\n",
              "      background-color: #3B4455;\n",
              "      fill: #D2E3FC;\n",
              "    }\n",
              "\n",
              "    [theme=dark] .colab-df-convert:hover {\n",
              "      background-color: #434B5C;\n",
              "      box-shadow: 0px 1px 3px 1px rgba(0, 0, 0, 0.15);\n",
              "      filter: drop-shadow(0px 1px 2px rgba(0, 0, 0, 0.3));\n",
              "      fill: #FFFFFF;\n",
              "    }\n",
              "  </style>\n",
              "\n",
              "      <script>\n",
              "        const buttonEl =\n",
              "          document.querySelector('#df-06862641-326f-4801-ae07-b6f753741f7c button.colab-df-convert');\n",
              "        buttonEl.style.display =\n",
              "          google.colab.kernel.accessAllowed ? 'block' : 'none';\n",
              "\n",
              "        async function convertToInteractive(key) {\n",
              "          const element = document.querySelector('#df-06862641-326f-4801-ae07-b6f753741f7c');\n",
              "          const dataTable =\n",
              "            await google.colab.kernel.invokeFunction('convertToInteractive',\n",
              "                                                     [key], {});\n",
              "          if (!dataTable) return;\n",
              "\n",
              "          const docLinkHtml = 'Like what you see? Visit the ' +\n",
              "            '<a target=\"_blank\" href=https://colab.research.google.com/notebooks/data_table.ipynb>data table notebook</a>'\n",
              "            + ' to learn more about interactive tables.';\n",
              "          element.innerHTML = '';\n",
              "          dataTable['output_type'] = 'display_data';\n",
              "          await google.colab.output.renderOutput(dataTable, element);\n",
              "          const docLink = document.createElement('div');\n",
              "          docLink.innerHTML = docLinkHtml;\n",
              "          element.appendChild(docLink);\n",
              "        }\n",
              "      </script>\n",
              "    </div>\n",
              "  </div>\n",
              "  "
            ]
          },
          "metadata": {},
          "execution_count": 6
        }
      ]
    },
    {
      "cell_type": "code",
      "source": [
        "data['type'].value_counts()"
      ],
      "metadata": {
        "colab": {
          "base_uri": "https://localhost:8080/"
        },
        "id": "3kv38modW2lg",
        "outputId": "de9b5b82-7dab-4f41-ac9e-13ef9d956b18"
      },
      "execution_count": null,
      "outputs": [
        {
          "output_type": "execute_result",
          "data": {
            "text/plain": [
              "INFP    1832\n",
              "INFJ    1470\n",
              "INTP    1304\n",
              "INTJ    1091\n",
              "ENTP     685\n",
              "ENFP     675\n",
              "ISTP     337\n",
              "ISFP     271\n",
              "ENTJ     231\n",
              "ISTJ     205\n",
              "ENFJ     190\n",
              "ISFJ     166\n",
              "ESTP      89\n",
              "ESFP      48\n",
              "ESFJ      42\n",
              "ESTJ      39\n",
              "Name: type, dtype: int64"
            ]
          },
          "metadata": {},
          "execution_count": 7
        }
      ]
    },
    {
      "cell_type": "markdown",
      "metadata": {
        "id": "iNW5uoAh7ssn"
      },
      "source": [
        "## Clean the data"
      ]
    },
    {
      "cell_type": "code",
      "source": [
        "def clean_text(data):\n",
        "    data_length = []\n",
        "    cleaned_text = []\n",
        "\n",
        "    for sentence in tqdm(data.posts):\n",
        "        sentence = redditcleaner.clean(sentence)\n",
        "        \n",
        "        sentence = re.sub(r'\\[.*?\\]', '', sentence)\n",
        "        sentence = re.sub(r'\\{.*?\\}', '', sentence)\n",
        "        sentence = re.sub(r'<.*?>+', '', sentence)\n",
        "        sentence = re.sub(r'\\n', ' ', sentence)\n",
        "        sentence = re.sub(r'\\\\\\/r\\\\\\/', '', sentence)\n",
        "        sentence = re.sub(r'/r/', '', sentence)\n",
        "      \n",
        "        sentence = re.sub(r'https?://[^\\s<>\"]+|www\\.[^\\s<>\"]+', ' ',sentence)\n",
        "        sentence = re.sub(r'\\(?(https?|http?)://\\S+|www\\.\\S+\\)?', ' ', sentence)\n",
        "        sentence = re.sub(r'(https?|http?)://\\S+|www\\.\\S+', ' ', sentence)\n",
        "        sentence = re.sub(r'(https?|http?)://[^\\s<>\"]+|www\\.[^\\s<>\"]+', ' ',sentence)\n",
        "        \n",
        "        sentence = sentence.lower()\n",
        "        sentence = contractions.fix(sentence) # expand contraction (I'm ==> I am)\n",
        "        sentence = re.sub('[^0-9a-z]', ' ',sentence)\n",
        "\n",
        "        sentence = re.sub(r\"\\s+\", ' ', sentence) # Replace duplicated whitespaces with a single whitespace\n",
        "        sentence = sentence.lstrip() # Remove whitespaces from the start of the sentence\n",
        "        sentence = sentence.rstrip() # Remove whitespaces from the end of the sentence\n",
        "\n",
        "        data_length.append(len(sentence.split()))\n",
        "        cleaned_text.append(sentence)\n",
        "\n",
        "    return cleaned_text"
      ],
      "metadata": {
        "id": "1HtKGaLpCUX8"
      },
      "execution_count": null,
      "outputs": []
    },
    {
      "cell_type": "code",
      "source": [
        "data.posts = clean_text(data)\n",
        "data"
      ],
      "metadata": {
        "colab": {
          "base_uri": "https://localhost:8080/",
          "height": 456,
          "referenced_widgets": [
            "46c15136c6c24a8fa47a6670f38edc68",
            "5687f61a1ba64a728e63b4f3157b2539",
            "bd5c58885f8c4704b62c7a08f126a4d6",
            "6fdc946143ca479aa42e5ae202292852",
            "fa73c81be9294658b8f7fe84172d67b3",
            "cfc9171554d24ae9adc0756899157fa0",
            "a6a77245f5d54ed19cbfcbeced235bd5",
            "a2bd88bf6fb243c3a21125bdbaa64dff",
            "07b028224cce405b9f17bbdca8e069a3",
            "d9846fd0d1f94938b26dcae90db52da8",
            "fd3dc34058be46d78470fd150a4ed3f7"
          ]
        },
        "id": "0NLLpPLCXUCL",
        "outputId": "6727c9b7-d919-449c-b60c-6a6c8754284f"
      },
      "execution_count": null,
      "outputs": [
        {
          "output_type": "display_data",
          "data": {
            "text/plain": [
              "  0%|          | 0/8675 [00:00<?, ?it/s]"
            ],
            "application/vnd.jupyter.widget-view+json": {
              "version_major": 2,
              "version_minor": 0,
              "model_id": "46c15136c6c24a8fa47a6670f38edc68"
            }
          },
          "metadata": {}
        },
        {
          "output_type": "execute_result",
          "data": {
            "text/plain": [
              "      type                                              posts\n",
              "0     INFJ  enfp and intj moments sportscenter not top ten...\n",
              "1     ENTP  i am finding the lack of me in these posts ver...\n",
              "2     INTP  good one of course to which i say i know that ...\n",
              "3     INTJ  dear intp i enjoyed our conversation the other...\n",
              "4     ENTJ  you are fired that is another silly misconcept...\n",
              "...    ...                                                ...\n",
              "8670  ISFP  ixfp just because i always think of cats as fi...\n",
              "8671  ENFP  so if this thread already exists someplace els...\n",
              "8672  INTP  so many questions when i do these things i wou...\n",
              "8673  INFP  i am very conflicted right now when it comes t...\n",
              "8674  INFP  it has been too long since i have been on pers...\n",
              "\n",
              "[8675 rows x 2 columns]"
            ],
            "text/html": [
              "\n",
              "  <div id=\"df-64b035ed-e54d-49ed-ade1-945a103fa936\">\n",
              "    <div class=\"colab-df-container\">\n",
              "      <div>\n",
              "<style scoped>\n",
              "    .dataframe tbody tr th:only-of-type {\n",
              "        vertical-align: middle;\n",
              "    }\n",
              "\n",
              "    .dataframe tbody tr th {\n",
              "        vertical-align: top;\n",
              "    }\n",
              "\n",
              "    .dataframe thead th {\n",
              "        text-align: right;\n",
              "    }\n",
              "</style>\n",
              "<table border=\"1\" class=\"dataframe\">\n",
              "  <thead>\n",
              "    <tr style=\"text-align: right;\">\n",
              "      <th></th>\n",
              "      <th>type</th>\n",
              "      <th>posts</th>\n",
              "    </tr>\n",
              "  </thead>\n",
              "  <tbody>\n",
              "    <tr>\n",
              "      <th>0</th>\n",
              "      <td>INFJ</td>\n",
              "      <td>enfp and intj moments sportscenter not top ten...</td>\n",
              "    </tr>\n",
              "    <tr>\n",
              "      <th>1</th>\n",
              "      <td>ENTP</td>\n",
              "      <td>i am finding the lack of me in these posts ver...</td>\n",
              "    </tr>\n",
              "    <tr>\n",
              "      <th>2</th>\n",
              "      <td>INTP</td>\n",
              "      <td>good one of course to which i say i know that ...</td>\n",
              "    </tr>\n",
              "    <tr>\n",
              "      <th>3</th>\n",
              "      <td>INTJ</td>\n",
              "      <td>dear intp i enjoyed our conversation the other...</td>\n",
              "    </tr>\n",
              "    <tr>\n",
              "      <th>4</th>\n",
              "      <td>ENTJ</td>\n",
              "      <td>you are fired that is another silly misconcept...</td>\n",
              "    </tr>\n",
              "    <tr>\n",
              "      <th>...</th>\n",
              "      <td>...</td>\n",
              "      <td>...</td>\n",
              "    </tr>\n",
              "    <tr>\n",
              "      <th>8670</th>\n",
              "      <td>ISFP</td>\n",
              "      <td>ixfp just because i always think of cats as fi...</td>\n",
              "    </tr>\n",
              "    <tr>\n",
              "      <th>8671</th>\n",
              "      <td>ENFP</td>\n",
              "      <td>so if this thread already exists someplace els...</td>\n",
              "    </tr>\n",
              "    <tr>\n",
              "      <th>8672</th>\n",
              "      <td>INTP</td>\n",
              "      <td>so many questions when i do these things i wou...</td>\n",
              "    </tr>\n",
              "    <tr>\n",
              "      <th>8673</th>\n",
              "      <td>INFP</td>\n",
              "      <td>i am very conflicted right now when it comes t...</td>\n",
              "    </tr>\n",
              "    <tr>\n",
              "      <th>8674</th>\n",
              "      <td>INFP</td>\n",
              "      <td>it has been too long since i have been on pers...</td>\n",
              "    </tr>\n",
              "  </tbody>\n",
              "</table>\n",
              "<p>8675 rows × 2 columns</p>\n",
              "</div>\n",
              "      <button class=\"colab-df-convert\" onclick=\"convertToInteractive('df-64b035ed-e54d-49ed-ade1-945a103fa936')\"\n",
              "              title=\"Convert this dataframe to an interactive table.\"\n",
              "              style=\"display:none;\">\n",
              "        \n",
              "  <svg xmlns=\"http://www.w3.org/2000/svg\" height=\"24px\"viewBox=\"0 0 24 24\"\n",
              "       width=\"24px\">\n",
              "    <path d=\"M0 0h24v24H0V0z\" fill=\"none\"/>\n",
              "    <path d=\"M18.56 5.44l.94 2.06.94-2.06 2.06-.94-2.06-.94-.94-2.06-.94 2.06-2.06.94zm-11 1L8.5 8.5l.94-2.06 2.06-.94-2.06-.94L8.5 2.5l-.94 2.06-2.06.94zm10 10l.94 2.06.94-2.06 2.06-.94-2.06-.94-.94-2.06-.94 2.06-2.06.94z\"/><path d=\"M17.41 7.96l-1.37-1.37c-.4-.4-.92-.59-1.43-.59-.52 0-1.04.2-1.43.59L10.3 9.45l-7.72 7.72c-.78.78-.78 2.05 0 2.83L4 21.41c.39.39.9.59 1.41.59.51 0 1.02-.2 1.41-.59l7.78-7.78 2.81-2.81c.8-.78.8-2.07 0-2.86zM5.41 20L4 18.59l7.72-7.72 1.47 1.35L5.41 20z\"/>\n",
              "  </svg>\n",
              "      </button>\n",
              "      \n",
              "  <style>\n",
              "    .colab-df-container {\n",
              "      display:flex;\n",
              "      flex-wrap:wrap;\n",
              "      gap: 12px;\n",
              "    }\n",
              "\n",
              "    .colab-df-convert {\n",
              "      background-color: #E8F0FE;\n",
              "      border: none;\n",
              "      border-radius: 50%;\n",
              "      cursor: pointer;\n",
              "      display: none;\n",
              "      fill: #1967D2;\n",
              "      height: 32px;\n",
              "      padding: 0 0 0 0;\n",
              "      width: 32px;\n",
              "    }\n",
              "\n",
              "    .colab-df-convert:hover {\n",
              "      background-color: #E2EBFA;\n",
              "      box-shadow: 0px 1px 2px rgba(60, 64, 67, 0.3), 0px 1px 3px 1px rgba(60, 64, 67, 0.15);\n",
              "      fill: #174EA6;\n",
              "    }\n",
              "\n",
              "    [theme=dark] .colab-df-convert {\n",
              "      background-color: #3B4455;\n",
              "      fill: #D2E3FC;\n",
              "    }\n",
              "\n",
              "    [theme=dark] .colab-df-convert:hover {\n",
              "      background-color: #434B5C;\n",
              "      box-shadow: 0px 1px 3px 1px rgba(0, 0, 0, 0.15);\n",
              "      filter: drop-shadow(0px 1px 2px rgba(0, 0, 0, 0.3));\n",
              "      fill: #FFFFFF;\n",
              "    }\n",
              "  </style>\n",
              "\n",
              "      <script>\n",
              "        const buttonEl =\n",
              "          document.querySelector('#df-64b035ed-e54d-49ed-ade1-945a103fa936 button.colab-df-convert');\n",
              "        buttonEl.style.display =\n",
              "          google.colab.kernel.accessAllowed ? 'block' : 'none';\n",
              "\n",
              "        async function convertToInteractive(key) {\n",
              "          const element = document.querySelector('#df-64b035ed-e54d-49ed-ade1-945a103fa936');\n",
              "          const dataTable =\n",
              "            await google.colab.kernel.invokeFunction('convertToInteractive',\n",
              "                                                     [key], {});\n",
              "          if (!dataTable) return;\n",
              "\n",
              "          const docLinkHtml = 'Like what you see? Visit the ' +\n",
              "            '<a target=\"_blank\" href=https://colab.research.google.com/notebooks/data_table.ipynb>data table notebook</a>'\n",
              "            + ' to learn more about interactive tables.';\n",
              "          element.innerHTML = '';\n",
              "          dataTable['output_type'] = 'display_data';\n",
              "          await google.colab.output.renderOutput(dataTable, element);\n",
              "          const docLink = document.createElement('div');\n",
              "          docLink.innerHTML = docLinkHtml;\n",
              "          element.appendChild(docLink);\n",
              "        }\n",
              "      </script>\n",
              "    </div>\n",
              "  </div>\n",
              "  "
            ]
          },
          "metadata": {},
          "execution_count": 9
        }
      ]
    },
    {
      "cell_type": "markdown",
      "source": [
        "## Split to train and test\n",
        "85% train, 15% test"
      ],
      "metadata": {
        "id": "8X_4_CvSX15y"
      }
    },
    {
      "cell_type": "code",
      "source": [
        "# Split dataset\n",
        "train_data, test_data = train_test_split(data, random_state=0, test_size=TEST_SIZE)\n",
        "\n",
        "train_size = len(train_data)\n",
        "test_size = len(test_data)\n",
        "train_size, test_size"
      ],
      "metadata": {
        "colab": {
          "base_uri": "https://localhost:8080/"
        },
        "id": "twA0AlVLX-nw",
        "outputId": "41a81041-5d6a-4e2a-8e96-ef343a332fe1"
      },
      "execution_count": null,
      "outputs": [
        {
          "output_type": "execute_result",
          "data": {
            "text/plain": [
              "(7373, 1302)"
            ]
          },
          "metadata": {},
          "execution_count": 10
        }
      ]
    },
    {
      "cell_type": "markdown",
      "source": [
        "## Save the data\n",
        "Save the split to a csv file.\n",
        "\n",
        "the data is splitted randomly this it must be saved in case session crushes."
      ],
      "metadata": {
        "id": "R4Tgm7fc-w0H"
      }
    },
    {
      "cell_type": "code",
      "source": [
        "# Save train set with and without index\n",
        "train_data.to_csv(FILEPATH_DF_TRAIN_WITH_INDEX, index=True, index_label='index')\n",
        "train_data.to_csv(FILEPATH_DF_TRAIN, index=False)\n",
        "\n",
        "# Save test set with and without index\n",
        "test_data.to_csv(FILEPATH_DF_TEST_WITH_INDEX, index=True, index_label='index')\n",
        "test_data.to_csv(FILEPATH_DF_TEST, index=False)"
      ],
      "metadata": {
        "id": "oQW1448s95zQ"
      },
      "execution_count": null,
      "outputs": []
    },
    {
      "cell_type": "markdown",
      "metadata": {
        "id": "wUo6J3sw9C8-"
      },
      "source": [
        "## Create JSONL file"
      ]
    },
    {
      "cell_type": "code",
      "source": [
        "def write_jsonl_to_file(f, prompt, completion):\n",
        "    # Create a dictionary for the current row\n",
        "    row_dict = {'prompt': prompt, 'completion': completion}\n",
        "    # Convert the dictionary to a JSON string\n",
        "    row_json = json.dumps(row_dict)\n",
        "    # Write the JSON string to the output file\n",
        "    f.write(row_json + '\\n')"
      ],
      "metadata": {
        "id": "m9fculWDYepV"
      },
      "execution_count": null,
      "outputs": []
    },
    {
      "cell_type": "code",
      "source": [
        "with open(FILEPATH_TRAIN, 'w', newline='') as f:\n",
        "  for per_type in CLASSES:\n",
        "    current_df = train_data[(train_data['type'] == per_type) & (train_data['posts'].str.len() < PROMPT_LEN)]\n",
        "    for _, row in current_df.iloc[:TAKE_SAMPLES].iterrows():\n",
        "      if row['posts'] and row['type']:\n",
        "        write_jsonl_to_file(f, PREFIX + row['posts'] + SUFFIX, ' ' + row['type'].lower())"
      ],
      "metadata": {
        "id": "KvZg3bmZZLE9"
      },
      "execution_count": null,
      "outputs": []
    },
    {
      "cell_type": "markdown",
      "source": [
        "Save for testing the rows that is left and picked for training"
      ],
      "metadata": {
        "id": "vkHpGbE7BHbB"
      }
    },
    {
      "cell_type": "code",
      "source": [
        "# initialize an empty dataframe to store the rows that we won't use for training in the train set\n",
        "extra_test_data = pd.DataFrame(columns=train_data.columns)\n",
        "\n",
        "for per_type in CLASSES:\n",
        "  current_df = train_data[(train_data['type'] == per_type) & (train_data['posts'].str.len() < PROMPT_LEN)]\n",
        "  for _, row in current_df.iloc[TAKE_SAMPLES:].iterrows():\n",
        "    if row['posts'] and row['type']:\n",
        "      extra_test_data = extra_test_data.append(row, ignore_index=False) # we will use index later"
      ],
      "metadata": {
        "id": "jwkib4UjBGmV"
      },
      "execution_count": null,
      "outputs": []
    },
    {
      "cell_type": "markdown",
      "source": [
        "Save extra test smaples as csv file"
      ],
      "metadata": {
        "id": "58-MmIKIBREE"
      }
    },
    {
      "cell_type": "code",
      "source": [
        "extra_test_data.to_csv(FILEPATH_DF_EXTRA_TEST_WITH_INDEX, index=True, index_label='index')\n",
        "extra_test_data.to_csv(FILEPATH_DF_EXTRA_TEST, index=False)"
      ],
      "metadata": {
        "id": "7c2eJIzsBQKU"
      },
      "execution_count": null,
      "outputs": []
    },
    {
      "cell_type": "markdown",
      "metadata": {
        "id": "xeTxWx5Z9Vug"
      },
      "source": [
        "## Shuffle the JSONL file"
      ]
    },
    {
      "cell_type": "code",
      "source": [
        "def shuffle_jsonl_file(filepath, shuffle_filepath):\n",
        "    # Read the file and shuffle the lines\n",
        "    with open(filepath, 'r') as f:\n",
        "        lines = f.readlines()\n",
        "        random.shuffle(lines)\n",
        "\n",
        "    # Write the shuffled lines to a new file\n",
        "    with open(shuffle_filepath, 'w', newline='') as f:\n",
        "        for line in lines:\n",
        "            f.write(line)"
      ],
      "metadata": {
        "id": "9C8E4B2rZVkb"
      },
      "execution_count": null,
      "outputs": []
    },
    {
      "cell_type": "code",
      "source": [
        "shuffle_jsonl_file(FILEPATH_TRAIN, SHUFFLED_FILEPATH_TRAIN)"
      ],
      "metadata": {
        "id": "OiZeIiPpZcVf"
      },
      "execution_count": null,
      "outputs": []
    },
    {
      "cell_type": "markdown",
      "metadata": {
        "id": "Qq3CHb-19cyU"
      },
      "source": [
        "## Use OpenAI library on JSONL file"
      ]
    },
    {
      "cell_type": "code",
      "execution_count": null,
      "metadata": {
        "colab": {
          "base_uri": "https://localhost:8080/",
          "height": 35
        },
        "id": "vQTti0gUV_2b",
        "outputId": "2b3de02f-bd41-4174-dcf8-478ed636c65f"
      },
      "outputs": [
        {
          "output_type": "execute_result",
          "data": {
            "text/plain": [
              "'/content/shuffled_data_train.jsonl'"
            ],
            "application/vnd.google.colaboratory.intrinsic+json": {
              "type": "string"
            }
          },
          "metadata": {},
          "execution_count": 19
        }
      ],
      "source": [
        "SHUFFLED_FILEPATH_TRAIN"
      ]
    },
    {
      "cell_type": "code",
      "execution_count": null,
      "metadata": {
        "colab": {
          "base_uri": "https://localhost:8080/"
        },
        "id": "Tav4oap8U9A_",
        "outputId": "1d099e39-5923-48b1-d01d-3e5aa3723fc0"
      },
      "outputs": [
        {
          "output_type": "stream",
          "name": "stdout",
          "text": [
            "Analyzing...\n",
            "\n",
            "- Your file contains 6967 prompt-completion pairs\n",
            "- Based on your data it seems like you're trying to fine-tune a model for classification\n",
            "- For classification, we recommend you try one of the faster and cheaper models, such as `ada`\n",
            "- For classification, you can estimate the expected model performance by keeping a held out dataset, which is not used for training\n",
            "- All prompts end with suffix `\\n\\nMBTI classification:`. This suffix seems very long. Consider replacing with a shorter suffix, such as `\\n\\n###\\n\\n`\n",
            "- All prompts start with prefix `based on MBTI classify the following text:\n",
            "\n",
            "`. Fine-tuning doesn't require the instruction specifying the task, or a few-shot example scenario. Most of the time you should only add the input data into the prompt, and the desired output into the completion\n",
            "\n",
            "Based on the analysis we will perform the following actions:\n",
            "- [Recommended] Remove prefix `based on MBTI classify the following text:\n",
            "\n",
            "` from all prompts [Y/n]: n\n",
            "- [Recommended] Would you like to split into training and validation set? [Y/n]: n\n",
            "\n",
            "You can use your file for fine-tuning:\n",
            "> openai api fine_tunes.create -t \"/content/shuffled_data_train.jsonl\"\n",
            "\n",
            "After you’ve fine-tuned a model, remember that your prompt has to end with the indicator string `\\n\\nMBTI classification:` for the model to start generating completions, rather than continuing with the prompt.\n",
            "Once your model starts training, it'll approximately take 2.83 hours to train a `curie` model, and less for `ada` and `babbage`. Queue will approximately take half an hour per job ahead of you.\n"
          ]
        }
      ],
      "source": [
        "!openai tools fine_tunes.prepare_data -f /content/shuffled_data_train.jsonl"
      ]
    },
    {
      "cell_type": "markdown",
      "source": [
        "# Test the trained model"
      ],
      "metadata": {
        "id": "DOX6DAJA22_x"
      }
    },
    {
      "cell_type": "markdown",
      "source": [
        "## Data Preprocessing"
      ],
      "metadata": {
        "id": "c3e2SoRAAfIa"
      }
    },
    {
      "cell_type": "markdown",
      "source": [
        "### Download the test data"
      ],
      "metadata": {
        "id": "Ln3dnf1nAiri"
      }
    },
    {
      "cell_type": "code",
      "source": [
        "# %%script echo skipping\n",
        "!pip install -U --no-cache-dir gdown --pre\n",
        "!gdown --id 1SEykj3tzr8l2D1oK5AeHje_Fwr2OjLqq\n",
        "!gdown --id 1QK9UJX-gUUneZLqfqWigzHal1Hky_WIJ"
      ],
      "metadata": {
        "colab": {
          "base_uri": "https://localhost:8080/"
        },
        "id": "U7NE0nMVAoFD",
        "outputId": "73725758-521d-429d-f169-cf1310dc0536"
      },
      "execution_count": null,
      "outputs": [
        {
          "output_type": "stream",
          "name": "stdout",
          "text": [
            "Looking in indexes: https://pypi.org/simple, https://us-python.pkg.dev/colab-wheels/public/simple/\n",
            "Requirement already satisfied: gdown in /usr/local/lib/python3.9/dist-packages (4.6.6)\n",
            "Collecting gdown\n",
            "  Downloading gdown-4.7.1-py3-none-any.whl (15 kB)\n",
            "Requirement already satisfied: tqdm in /usr/local/lib/python3.9/dist-packages (from gdown) (4.65.0)\n",
            "Requirement already satisfied: requests[socks] in /usr/local/lib/python3.9/dist-packages (from gdown) (2.27.1)\n",
            "Requirement already satisfied: six in /usr/local/lib/python3.9/dist-packages (from gdown) (1.16.0)\n",
            "Requirement already satisfied: filelock in /usr/local/lib/python3.9/dist-packages (from gdown) (3.11.0)\n",
            "Requirement already satisfied: beautifulsoup4 in /usr/local/lib/python3.9/dist-packages (from gdown) (4.11.2)\n",
            "Requirement already satisfied: soupsieve>1.2 in /usr/local/lib/python3.9/dist-packages (from beautifulsoup4->gdown) (2.4.1)\n",
            "Requirement already satisfied: idna<4,>=2.5 in /usr/local/lib/python3.9/dist-packages (from requests[socks]->gdown) (3.4)\n",
            "Requirement already satisfied: certifi>=2017.4.17 in /usr/local/lib/python3.9/dist-packages (from requests[socks]->gdown) (2022.12.7)\n",
            "Requirement already satisfied: urllib3<1.27,>=1.21.1 in /usr/local/lib/python3.9/dist-packages (from requests[socks]->gdown) (1.26.15)\n",
            "Requirement already satisfied: charset-normalizer~=2.0.0 in /usr/local/lib/python3.9/dist-packages (from requests[socks]->gdown) (2.0.12)\n",
            "Requirement already satisfied: PySocks!=1.5.7,>=1.5.6 in /usr/local/lib/python3.9/dist-packages (from requests[socks]->gdown) (1.7.1)\n",
            "Installing collected packages: gdown\n",
            "  Attempting uninstall: gdown\n",
            "    Found existing installation: gdown 4.6.6\n",
            "    Uninstalling gdown-4.6.6:\n",
            "      Successfully uninstalled gdown-4.6.6\n",
            "Successfully installed gdown-4.7.1\n",
            "/usr/local/lib/python3.9/dist-packages/gdown/cli.py:126: FutureWarning: Option `--id` was deprecated in version 4.3.1 and will be removed in 5.0. You don't need to pass it anymore to use a file ID.\n",
            "  warnings.warn(\n",
            "Downloading...\n",
            "From: https://drive.google.com/uc?id=1SEykj3tzr8l2D1oK5AeHje_Fwr2OjLqq\n",
            "To: /content/mbti_test_withIndex.csv\n",
            "100% 8.69M/8.69M [00:00<00:00, 25.1MB/s]\n",
            "/usr/local/lib/python3.9/dist-packages/gdown/cli.py:126: FutureWarning: Option `--id` was deprecated in version 4.3.1 and will be removed in 5.0. You don't need to pass it anymore to use a file ID.\n",
            "  warnings.warn(\n",
            "Downloading...\n",
            "From: https://drive.google.com/uc?id=1QK9UJX-gUUneZLqfqWigzHal1Hky_WIJ\n",
            "To: /content/mbti_extra_test_withIndex.csv\n",
            "100% 2.66M/2.66M [00:00<00:00, 173MB/s]\n"
          ]
        }
      ]
    },
    {
      "cell_type": "markdown",
      "source": [
        "### Load the test data"
      ],
      "metadata": {
        "id": "LGsm1ILSAoJy"
      }
    },
    {
      "cell_type": "code",
      "source": [
        "# %%script echo skipping\n",
        "test_data = pd.read_csv(FILEPATH_DF_TEST_WITH_INDEX, index_col='index')\n",
        "extra_test_data = pd.read_csv(FILEPATH_DF_EXTRA_TEST_WITH_INDEX, index_col='index')\n",
        "gc.collect()"
      ],
      "metadata": {
        "colab": {
          "base_uri": "https://localhost:8080/"
        },
        "id": "sf6H6rGwAqIJ",
        "outputId": "a6a27855-b7c5-46da-e72c-c437c092c890"
      },
      "execution_count": null,
      "outputs": [
        {
          "output_type": "execute_result",
          "data": {
            "text/plain": [
              "0"
            ]
          },
          "metadata": {},
          "execution_count": 8
        }
      ]
    },
    {
      "cell_type": "markdown",
      "source": [
        "### Prepare data for testing"
      ],
      "metadata": {
        "id": "glCdGYxReeZY"
      }
    },
    {
      "cell_type": "markdown",
      "source": [
        "combine the test data with the rows that have not been chosen for training"
      ],
      "metadata": {
        "id": "2JBsewR6DNNH"
      }
    },
    {
      "cell_type": "code",
      "source": [
        "concat_test_set = pd.concat([test_data, extra_test_data])"
      ],
      "metadata": {
        "id": "GMNIDI1EC3Ah"
      },
      "execution_count": null,
      "outputs": []
    },
    {
      "cell_type": "code",
      "source": [
        "print(f'test_data length: {len(test_data)}')\n",
        "print(f'extra_test_data length: {len(extra_test_data)}')\n",
        "print(f'concat_test_set length: {len(concat_test_set)}')"
      ],
      "metadata": {
        "colab": {
          "base_uri": "https://localhost:8080/"
        },
        "id": "avQ3wB6qEd0-",
        "outputId": "fc8cb6a8-5706-4d9b-af85-0ae7cb330c39"
      },
      "execution_count": null,
      "outputs": [
        {
          "output_type": "stream",
          "name": "stdout",
          "text": [
            "test_data length: 1302\n",
            "extra_test_data length: 406\n",
            "concat_test_set length: 1708\n"
          ]
        }
      ]
    },
    {
      "cell_type": "markdown",
      "source": [
        "Add type index/label column"
      ],
      "metadata": {
        "id": "vo1f397Oe9ll"
      }
    },
    {
      "cell_type": "code",
      "source": [
        "types = np.unique(data.type.values)"
      ],
      "metadata": {
        "id": "G4T_flfECThG"
      },
      "execution_count": null,
      "outputs": []
    },
    {
      "cell_type": "code",
      "source": [
        "def get_type_index(string):\n",
        "    return list(types).index(string)"
      ],
      "metadata": {
        "id": "fzO2IqtfwX3h"
      },
      "execution_count": null,
      "outputs": []
    },
    {
      "cell_type": "code",
      "source": [
        "concat_test_set['type_index'] = data['type'].apply(get_type_index)\n",
        "concat_test_set"
      ],
      "metadata": {
        "colab": {
          "base_uri": "https://localhost:8080/",
          "height": 455
        },
        "id": "miNO2oYVCZoH",
        "outputId": "99f8bcb3-202a-4aa7-afaf-4bafb48d682c"
      },
      "execution_count": null,
      "outputs": [
        {
          "output_type": "execute_result",
          "data": {
            "text/plain": [
              "       type                                              posts  type_index\n",
              "index                                                                     \n",
              "4587   ISFP  dear isfj mother i wish you were less of a wor...          13\n",
              "2786   INFJ  to me i think you guys may be over analyzing i...           8\n",
              "2813   ENFP  nihm while nihm has her intj husband i have go...           1\n",
              "3705   INTP  i want 5 kids an astro nuclear theoretical phy...          11\n",
              "5957   ISFP  i have the same thing as well i have noticed t...          13\n",
              "...     ...                                                ...         ...\n",
              "1871   INFP  eating dinner my family and i are going out to...           9\n",
              "537    INFP  a mini snickers bar pouts still hungry hi ther...           9\n",
              "6744   INFP  h p lovecraft and edgar allen poe which makes ...           9\n",
              "5874   INFP  ya know this is my exact issue i am interested...           9\n",
              "4373   INFP  hey it seems like you have a great foundation ...           9\n",
              "\n",
              "[1708 rows x 3 columns]"
            ],
            "text/html": [
              "\n",
              "  <div id=\"df-911a9170-5814-451b-a208-6a8ab3643043\">\n",
              "    <div class=\"colab-df-container\">\n",
              "      <div>\n",
              "<style scoped>\n",
              "    .dataframe tbody tr th:only-of-type {\n",
              "        vertical-align: middle;\n",
              "    }\n",
              "\n",
              "    .dataframe tbody tr th {\n",
              "        vertical-align: top;\n",
              "    }\n",
              "\n",
              "    .dataframe thead th {\n",
              "        text-align: right;\n",
              "    }\n",
              "</style>\n",
              "<table border=\"1\" class=\"dataframe\">\n",
              "  <thead>\n",
              "    <tr style=\"text-align: right;\">\n",
              "      <th></th>\n",
              "      <th>type</th>\n",
              "      <th>posts</th>\n",
              "      <th>type_index</th>\n",
              "    </tr>\n",
              "    <tr>\n",
              "      <th>index</th>\n",
              "      <th></th>\n",
              "      <th></th>\n",
              "      <th></th>\n",
              "    </tr>\n",
              "  </thead>\n",
              "  <tbody>\n",
              "    <tr>\n",
              "      <th>4587</th>\n",
              "      <td>ISFP</td>\n",
              "      <td>dear isfj mother i wish you were less of a wor...</td>\n",
              "      <td>13</td>\n",
              "    </tr>\n",
              "    <tr>\n",
              "      <th>2786</th>\n",
              "      <td>INFJ</td>\n",
              "      <td>to me i think you guys may be over analyzing i...</td>\n",
              "      <td>8</td>\n",
              "    </tr>\n",
              "    <tr>\n",
              "      <th>2813</th>\n",
              "      <td>ENFP</td>\n",
              "      <td>nihm while nihm has her intj husband i have go...</td>\n",
              "      <td>1</td>\n",
              "    </tr>\n",
              "    <tr>\n",
              "      <th>3705</th>\n",
              "      <td>INTP</td>\n",
              "      <td>i want 5 kids an astro nuclear theoretical phy...</td>\n",
              "      <td>11</td>\n",
              "    </tr>\n",
              "    <tr>\n",
              "      <th>5957</th>\n",
              "      <td>ISFP</td>\n",
              "      <td>i have the same thing as well i have noticed t...</td>\n",
              "      <td>13</td>\n",
              "    </tr>\n",
              "    <tr>\n",
              "      <th>...</th>\n",
              "      <td>...</td>\n",
              "      <td>...</td>\n",
              "      <td>...</td>\n",
              "    </tr>\n",
              "    <tr>\n",
              "      <th>1871</th>\n",
              "      <td>INFP</td>\n",
              "      <td>eating dinner my family and i are going out to...</td>\n",
              "      <td>9</td>\n",
              "    </tr>\n",
              "    <tr>\n",
              "      <th>537</th>\n",
              "      <td>INFP</td>\n",
              "      <td>a mini snickers bar pouts still hungry hi ther...</td>\n",
              "      <td>9</td>\n",
              "    </tr>\n",
              "    <tr>\n",
              "      <th>6744</th>\n",
              "      <td>INFP</td>\n",
              "      <td>h p lovecraft and edgar allen poe which makes ...</td>\n",
              "      <td>9</td>\n",
              "    </tr>\n",
              "    <tr>\n",
              "      <th>5874</th>\n",
              "      <td>INFP</td>\n",
              "      <td>ya know this is my exact issue i am interested...</td>\n",
              "      <td>9</td>\n",
              "    </tr>\n",
              "    <tr>\n",
              "      <th>4373</th>\n",
              "      <td>INFP</td>\n",
              "      <td>hey it seems like you have a great foundation ...</td>\n",
              "      <td>9</td>\n",
              "    </tr>\n",
              "  </tbody>\n",
              "</table>\n",
              "<p>1708 rows × 3 columns</p>\n",
              "</div>\n",
              "      <button class=\"colab-df-convert\" onclick=\"convertToInteractive('df-911a9170-5814-451b-a208-6a8ab3643043')\"\n",
              "              title=\"Convert this dataframe to an interactive table.\"\n",
              "              style=\"display:none;\">\n",
              "        \n",
              "  <svg xmlns=\"http://www.w3.org/2000/svg\" height=\"24px\"viewBox=\"0 0 24 24\"\n",
              "       width=\"24px\">\n",
              "    <path d=\"M0 0h24v24H0V0z\" fill=\"none\"/>\n",
              "    <path d=\"M18.56 5.44l.94 2.06.94-2.06 2.06-.94-2.06-.94-.94-2.06-.94 2.06-2.06.94zm-11 1L8.5 8.5l.94-2.06 2.06-.94-2.06-.94L8.5 2.5l-.94 2.06-2.06.94zm10 10l.94 2.06.94-2.06 2.06-.94-2.06-.94-.94-2.06-.94 2.06-2.06.94z\"/><path d=\"M17.41 7.96l-1.37-1.37c-.4-.4-.92-.59-1.43-.59-.52 0-1.04.2-1.43.59L10.3 9.45l-7.72 7.72c-.78.78-.78 2.05 0 2.83L4 21.41c.39.39.9.59 1.41.59.51 0 1.02-.2 1.41-.59l7.78-7.78 2.81-2.81c.8-.78.8-2.07 0-2.86zM5.41 20L4 18.59l7.72-7.72 1.47 1.35L5.41 20z\"/>\n",
              "  </svg>\n",
              "      </button>\n",
              "      \n",
              "  <style>\n",
              "    .colab-df-container {\n",
              "      display:flex;\n",
              "      flex-wrap:wrap;\n",
              "      gap: 12px;\n",
              "    }\n",
              "\n",
              "    .colab-df-convert {\n",
              "      background-color: #E8F0FE;\n",
              "      border: none;\n",
              "      border-radius: 50%;\n",
              "      cursor: pointer;\n",
              "      display: none;\n",
              "      fill: #1967D2;\n",
              "      height: 32px;\n",
              "      padding: 0 0 0 0;\n",
              "      width: 32px;\n",
              "    }\n",
              "\n",
              "    .colab-df-convert:hover {\n",
              "      background-color: #E2EBFA;\n",
              "      box-shadow: 0px 1px 2px rgba(60, 64, 67, 0.3), 0px 1px 3px 1px rgba(60, 64, 67, 0.15);\n",
              "      fill: #174EA6;\n",
              "    }\n",
              "\n",
              "    [theme=dark] .colab-df-convert {\n",
              "      background-color: #3B4455;\n",
              "      fill: #D2E3FC;\n",
              "    }\n",
              "\n",
              "    [theme=dark] .colab-df-convert:hover {\n",
              "      background-color: #434B5C;\n",
              "      box-shadow: 0px 1px 3px 1px rgba(0, 0, 0, 0.15);\n",
              "      filter: drop-shadow(0px 1px 2px rgba(0, 0, 0, 0.3));\n",
              "      fill: #FFFFFF;\n",
              "    }\n",
              "  </style>\n",
              "\n",
              "      <script>\n",
              "        const buttonEl =\n",
              "          document.querySelector('#df-911a9170-5814-451b-a208-6a8ab3643043 button.colab-df-convert');\n",
              "        buttonEl.style.display =\n",
              "          google.colab.kernel.accessAllowed ? 'block' : 'none';\n",
              "\n",
              "        async function convertToInteractive(key) {\n",
              "          const element = document.querySelector('#df-911a9170-5814-451b-a208-6a8ab3643043');\n",
              "          const dataTable =\n",
              "            await google.colab.kernel.invokeFunction('convertToInteractive',\n",
              "                                                     [key], {});\n",
              "          if (!dataTable) return;\n",
              "\n",
              "          const docLinkHtml = 'Like what you see? Visit the ' +\n",
              "            '<a target=\"_blank\" href=https://colab.research.google.com/notebooks/data_table.ipynb>data table notebook</a>'\n",
              "            + ' to learn more about interactive tables.';\n",
              "          element.innerHTML = '';\n",
              "          dataTable['output_type'] = 'display_data';\n",
              "          await google.colab.output.renderOutput(dataTable, element);\n",
              "          const docLink = document.createElement('div');\n",
              "          docLink.innerHTML = docLinkHtml;\n",
              "          element.appendChild(docLink);\n",
              "        }\n",
              "      </script>\n",
              "    </div>\n",
              "  </div>\n",
              "  "
            ]
          },
          "metadata": {},
          "execution_count": 17
        }
      ]
    },
    {
      "cell_type": "code",
      "source": [
        "concat_test_set['type'].value_counts()"
      ],
      "metadata": {
        "colab": {
          "base_uri": "https://localhost:8080/"
        },
        "id": "HUQ8R_HRFeKn",
        "outputId": "9edc84ca-28f6-4647-8877-70ad6b1f43a3"
      },
      "execution_count": null,
      "outputs": [
        {
          "output_type": "execute_result",
          "data": {
            "text/plain": [
              "INFP    632\n",
              "INFJ    270\n",
              "INTP    207\n",
              "INTJ    178\n",
              "ENFP    102\n",
              "ENTP    102\n",
              "ISTP     46\n",
              "ISFP     31\n",
              "ENFJ     30\n",
              "ENTJ     27\n",
              "ISFJ     24\n",
              "ISTJ     22\n",
              "ESTP     14\n",
              "ESFJ     10\n",
              "ESFP      7\n",
              "ESTJ      6\n",
              "Name: type, dtype: int64"
            ]
          },
          "metadata": {},
          "execution_count": 18
        }
      ]
    },
    {
      "cell_type": "markdown",
      "source": [
        "Shuffle the rows"
      ],
      "metadata": {
        "id": "yl7RAoM0esnX"
      }
    },
    {
      "cell_type": "code",
      "source": [
        "shuffled_concat_test_set = concat_test_set.sample(frac=1)\n",
        "shuffled_concat_test_set"
      ],
      "metadata": {
        "colab": {
          "base_uri": "https://localhost:8080/",
          "height": 455
        },
        "id": "aTfFAbDadGxN",
        "outputId": "ee26a485-cd9f-4e21-862b-cd72c6522859"
      },
      "execution_count": null,
      "outputs": [
        {
          "output_type": "execute_result",
          "data": {
            "text/plain": [
              "       type                                              posts  type_index\n",
              "index                                                                     \n",
              "8408   INFP  i was wondering as an infp how do you react to...           9\n",
              "6001   INFJ  i do not know if this is the right place for t...           8\n",
              "3511   INFP  well honestly id like and i know that i am goi...           9\n",
              "1573   INFP  leave the polar bear out of this blushed we do...           9\n",
              "2883   INTP  yes it is a lot like a chess game i have been ...          11\n",
              "...     ...                                                ...         ...\n",
              "1020   INFP  or something like that lol have any of you eve...           9\n",
              "3304   INTP  beat song i was working on tonight if anyone c...          11\n",
              "733    INFJ  weird question but what is your work i am just...           8\n",
              "2730   INTJ  but for my own part if a book is well written ...          10\n",
              "3443   INFP  i did a form like this before umm so i just tu...           9\n",
              "\n",
              "[1708 rows x 3 columns]"
            ],
            "text/html": [
              "\n",
              "  <div id=\"df-1b14ed19-509b-41f6-8068-13a88a8fe451\">\n",
              "    <div class=\"colab-df-container\">\n",
              "      <div>\n",
              "<style scoped>\n",
              "    .dataframe tbody tr th:only-of-type {\n",
              "        vertical-align: middle;\n",
              "    }\n",
              "\n",
              "    .dataframe tbody tr th {\n",
              "        vertical-align: top;\n",
              "    }\n",
              "\n",
              "    .dataframe thead th {\n",
              "        text-align: right;\n",
              "    }\n",
              "</style>\n",
              "<table border=\"1\" class=\"dataframe\">\n",
              "  <thead>\n",
              "    <tr style=\"text-align: right;\">\n",
              "      <th></th>\n",
              "      <th>type</th>\n",
              "      <th>posts</th>\n",
              "      <th>type_index</th>\n",
              "    </tr>\n",
              "    <tr>\n",
              "      <th>index</th>\n",
              "      <th></th>\n",
              "      <th></th>\n",
              "      <th></th>\n",
              "    </tr>\n",
              "  </thead>\n",
              "  <tbody>\n",
              "    <tr>\n",
              "      <th>8408</th>\n",
              "      <td>INFP</td>\n",
              "      <td>i was wondering as an infp how do you react to...</td>\n",
              "      <td>9</td>\n",
              "    </tr>\n",
              "    <tr>\n",
              "      <th>6001</th>\n",
              "      <td>INFJ</td>\n",
              "      <td>i do not know if this is the right place for t...</td>\n",
              "      <td>8</td>\n",
              "    </tr>\n",
              "    <tr>\n",
              "      <th>3511</th>\n",
              "      <td>INFP</td>\n",
              "      <td>well honestly id like and i know that i am goi...</td>\n",
              "      <td>9</td>\n",
              "    </tr>\n",
              "    <tr>\n",
              "      <th>1573</th>\n",
              "      <td>INFP</td>\n",
              "      <td>leave the polar bear out of this blushed we do...</td>\n",
              "      <td>9</td>\n",
              "    </tr>\n",
              "    <tr>\n",
              "      <th>2883</th>\n",
              "      <td>INTP</td>\n",
              "      <td>yes it is a lot like a chess game i have been ...</td>\n",
              "      <td>11</td>\n",
              "    </tr>\n",
              "    <tr>\n",
              "      <th>...</th>\n",
              "      <td>...</td>\n",
              "      <td>...</td>\n",
              "      <td>...</td>\n",
              "    </tr>\n",
              "    <tr>\n",
              "      <th>1020</th>\n",
              "      <td>INFP</td>\n",
              "      <td>or something like that lol have any of you eve...</td>\n",
              "      <td>9</td>\n",
              "    </tr>\n",
              "    <tr>\n",
              "      <th>3304</th>\n",
              "      <td>INTP</td>\n",
              "      <td>beat song i was working on tonight if anyone c...</td>\n",
              "      <td>11</td>\n",
              "    </tr>\n",
              "    <tr>\n",
              "      <th>733</th>\n",
              "      <td>INFJ</td>\n",
              "      <td>weird question but what is your work i am just...</td>\n",
              "      <td>8</td>\n",
              "    </tr>\n",
              "    <tr>\n",
              "      <th>2730</th>\n",
              "      <td>INTJ</td>\n",
              "      <td>but for my own part if a book is well written ...</td>\n",
              "      <td>10</td>\n",
              "    </tr>\n",
              "    <tr>\n",
              "      <th>3443</th>\n",
              "      <td>INFP</td>\n",
              "      <td>i did a form like this before umm so i just tu...</td>\n",
              "      <td>9</td>\n",
              "    </tr>\n",
              "  </tbody>\n",
              "</table>\n",
              "<p>1708 rows × 3 columns</p>\n",
              "</div>\n",
              "      <button class=\"colab-df-convert\" onclick=\"convertToInteractive('df-1b14ed19-509b-41f6-8068-13a88a8fe451')\"\n",
              "              title=\"Convert this dataframe to an interactive table.\"\n",
              "              style=\"display:none;\">\n",
              "        \n",
              "  <svg xmlns=\"http://www.w3.org/2000/svg\" height=\"24px\"viewBox=\"0 0 24 24\"\n",
              "       width=\"24px\">\n",
              "    <path d=\"M0 0h24v24H0V0z\" fill=\"none\"/>\n",
              "    <path d=\"M18.56 5.44l.94 2.06.94-2.06 2.06-.94-2.06-.94-.94-2.06-.94 2.06-2.06.94zm-11 1L8.5 8.5l.94-2.06 2.06-.94-2.06-.94L8.5 2.5l-.94 2.06-2.06.94zm10 10l.94 2.06.94-2.06 2.06-.94-2.06-.94-.94-2.06-.94 2.06-2.06.94z\"/><path d=\"M17.41 7.96l-1.37-1.37c-.4-.4-.92-.59-1.43-.59-.52 0-1.04.2-1.43.59L10.3 9.45l-7.72 7.72c-.78.78-.78 2.05 0 2.83L4 21.41c.39.39.9.59 1.41.59.51 0 1.02-.2 1.41-.59l7.78-7.78 2.81-2.81c.8-.78.8-2.07 0-2.86zM5.41 20L4 18.59l7.72-7.72 1.47 1.35L5.41 20z\"/>\n",
              "  </svg>\n",
              "      </button>\n",
              "      \n",
              "  <style>\n",
              "    .colab-df-container {\n",
              "      display:flex;\n",
              "      flex-wrap:wrap;\n",
              "      gap: 12px;\n",
              "    }\n",
              "\n",
              "    .colab-df-convert {\n",
              "      background-color: #E8F0FE;\n",
              "      border: none;\n",
              "      border-radius: 50%;\n",
              "      cursor: pointer;\n",
              "      display: none;\n",
              "      fill: #1967D2;\n",
              "      height: 32px;\n",
              "      padding: 0 0 0 0;\n",
              "      width: 32px;\n",
              "    }\n",
              "\n",
              "    .colab-df-convert:hover {\n",
              "      background-color: #E2EBFA;\n",
              "      box-shadow: 0px 1px 2px rgba(60, 64, 67, 0.3), 0px 1px 3px 1px rgba(60, 64, 67, 0.15);\n",
              "      fill: #174EA6;\n",
              "    }\n",
              "\n",
              "    [theme=dark] .colab-df-convert {\n",
              "      background-color: #3B4455;\n",
              "      fill: #D2E3FC;\n",
              "    }\n",
              "\n",
              "    [theme=dark] .colab-df-convert:hover {\n",
              "      background-color: #434B5C;\n",
              "      box-shadow: 0px 1px 3px 1px rgba(0, 0, 0, 0.15);\n",
              "      filter: drop-shadow(0px 1px 2px rgba(0, 0, 0, 0.3));\n",
              "      fill: #FFFFFF;\n",
              "    }\n",
              "  </style>\n",
              "\n",
              "      <script>\n",
              "        const buttonEl =\n",
              "          document.querySelector('#df-1b14ed19-509b-41f6-8068-13a88a8fe451 button.colab-df-convert');\n",
              "        buttonEl.style.display =\n",
              "          google.colab.kernel.accessAllowed ? 'block' : 'none';\n",
              "\n",
              "        async function convertToInteractive(key) {\n",
              "          const element = document.querySelector('#df-1b14ed19-509b-41f6-8068-13a88a8fe451');\n",
              "          const dataTable =\n",
              "            await google.colab.kernel.invokeFunction('convertToInteractive',\n",
              "                                                     [key], {});\n",
              "          if (!dataTable) return;\n",
              "\n",
              "          const docLinkHtml = 'Like what you see? Visit the ' +\n",
              "            '<a target=\"_blank\" href=https://colab.research.google.com/notebooks/data_table.ipynb>data table notebook</a>'\n",
              "            + ' to learn more about interactive tables.';\n",
              "          element.innerHTML = '';\n",
              "          dataTable['output_type'] = 'display_data';\n",
              "          await google.colab.output.renderOutput(dataTable, element);\n",
              "          const docLink = document.createElement('div');\n",
              "          docLink.innerHTML = docLinkHtml;\n",
              "          element.appendChild(docLink);\n",
              "        }\n",
              "      </script>\n",
              "    </div>\n",
              "  </div>\n",
              "  "
            ]
          },
          "metadata": {},
          "execution_count": 19
        }
      ]
    },
    {
      "cell_type": "markdown",
      "source": [
        "Create dict to map between predictions to label"
      ],
      "metadata": {
        "id": "nJiW3siAev9j"
      }
    },
    {
      "cell_type": "code",
      "source": [
        "types_dict = shuffled_concat_test_set.groupby('type')['type_index'].min().to_dict()\n",
        "types_dict"
      ],
      "metadata": {
        "colab": {
          "base_uri": "https://localhost:8080/"
        },
        "id": "_G4pjphVDS5h",
        "outputId": "6ab05f1a-ec78-4785-db1e-c121bff388e6"
      },
      "execution_count": null,
      "outputs": [
        {
          "output_type": "execute_result",
          "data": {
            "text/plain": [
              "{'ENFJ': 0,\n",
              " 'ENFP': 1,\n",
              " 'ENTJ': 2,\n",
              " 'ENTP': 3,\n",
              " 'ESFJ': 4,\n",
              " 'ESFP': 5,\n",
              " 'ESTJ': 6,\n",
              " 'ESTP': 7,\n",
              " 'INFJ': 8,\n",
              " 'INFP': 9,\n",
              " 'INTJ': 10,\n",
              " 'INTP': 11,\n",
              " 'ISFJ': 12,\n",
              " 'ISFP': 13,\n",
              " 'ISTJ': 14,\n",
              " 'ISTP': 15}"
            ]
          },
          "metadata": {},
          "execution_count": 20
        }
      ]
    },
    {
      "cell_type": "markdown",
      "source": [
        "## Download and import AI21 library"
      ],
      "metadata": {
        "id": "gKhg97L1eU9V"
      }
    },
    {
      "cell_type": "code",
      "source": [
        "!pip install ai21"
      ],
      "metadata": {
        "colab": {
          "base_uri": "https://localhost:8080/"
        },
        "id": "2Eh5PxdKfImS",
        "outputId": "fca55f3e-99b8-4130-c75f-6b585919ae81"
      },
      "execution_count": null,
      "outputs": [
        {
          "output_type": "stream",
          "name": "stdout",
          "text": [
            "Looking in indexes: https://pypi.org/simple, https://us-python.pkg.dev/colab-wheels/public/simple/\n",
            "Collecting ai21\n",
            "  Downloading ai21-1.0.5.tar.gz (9.4 kB)\n",
            "  Preparing metadata (setup.py) ... \u001b[?25l\u001b[?25hdone\n",
            "Requirement already satisfied: requests in /usr/local/lib/python3.9/dist-packages (from ai21) (2.27.1)\n",
            "Requirement already satisfied: certifi>=2017.4.17 in /usr/local/lib/python3.9/dist-packages (from requests->ai21) (2022.12.7)\n",
            "Requirement already satisfied: idna<4,>=2.5 in /usr/local/lib/python3.9/dist-packages (from requests->ai21) (3.4)\n",
            "Requirement already satisfied: charset-normalizer~=2.0.0 in /usr/local/lib/python3.9/dist-packages (from requests->ai21) (2.0.12)\n",
            "Requirement already satisfied: urllib3<1.27,>=1.21.1 in /usr/local/lib/python3.9/dist-packages (from requests->ai21) (1.26.15)\n",
            "Building wheels for collected packages: ai21\n",
            "  Building wheel for ai21 (setup.py) ... \u001b[?25l\u001b[?25hdone\n",
            "  Created wheel for ai21: filename=ai21-1.0.5-py3-none-any.whl size=16644 sha256=84fbc79fb3d3e79e6081e1a5c46b4637a59d7b11fcefe8b9591309d4434e4f7b\n",
            "  Stored in directory: /root/.cache/pip/wheels/03/a8/f4/77b493ec691fad0cbdac10ef3fd0cf6769ced4b5a1911a3eda\n",
            "Successfully built ai21\n",
            "Installing collected packages: ai21\n",
            "Successfully installed ai21-1.0.5\n"
          ]
        }
      ]
    },
    {
      "cell_type": "code",
      "source": [
        "import ai21\n",
        "ai21.api_key = 'Td0blqoHjOMCOVzhmBKmZ14VTnxWtQEW'"
      ],
      "metadata": {
        "id": "zO5gRe_i4ywX"
      },
      "execution_count": null,
      "outputs": []
    },
    {
      "cell_type": "markdown",
      "source": [
        "## Evaluation metrics and performance"
      ],
      "metadata": {
        "id": "Zs2r5Wfafned"
      }
    },
    {
      "cell_type": "code",
      "source": [
        "resp = ai21.Completion.execute(\n",
        "    model=\"j2-grande\",\n",
        "    custom_model=\"mbti_j2_grande\",\n",
        "    prompt=PREFIX+row['posts']+SUFFIX,\n",
        "    numResults=1,\n",
        "    maxTokens=3,\n",
        "    minTokens=2,\n",
        "    temperature=0.7,\n",
        "    topKReturn=0\n",
        "    )"
      ],
      "metadata": {
        "id": "aHtnjnCJGiWX"
      },
      "execution_count": null,
      "outputs": []
    },
    {
      "cell_type": "markdown",
      "source": [
        "### Generate model prediction"
      ],
      "metadata": {
        "id": "V0pnt4-fh9ap"
      }
    },
    {
      "cell_type": "code",
      "source": [
        "y_true = shuffled_concat_test_set.type_index.values\n",
        "y_pred = []\n",
        "\n",
        "for i, (_, row) in enumerate(shuffled_concat_test_set.iterrows()):\n",
        "  resp = ai21.Completion.execute(\n",
        "      model=\"j2-grande\",\n",
        "      custom_model=\"mbti_j2_grande\",\n",
        "      prompt=PREFIX+row['posts']+SUFFIX,\n",
        "      numResults=1,\n",
        "      maxTokens=3,\n",
        "      minTokens=2,\n",
        "      temperature=0.7,\n",
        "      topKReturn=0\n",
        "      )\n",
        "\n",
        "  completion = resp.completions[0]['data']['text']\n",
        "  completion = re.sub(r\"\\s+\", '', completion)\n",
        "  completion = completion.upper()\n",
        "\n",
        "  try:\n",
        "    pred = types_dict[completion]\n",
        "  except: # In case model predicted text that makes no sense count it as mistake\n",
        "    pred = random.choice([x for x in range(16) if x != y_true[i]])\n",
        "\n",
        "  y_pred.append(pred)\n",
        "\n",
        "  print(f'{i}, ', end='') # printing iteration to visually monitor the process"
      ],
      "metadata": {
        "colab": {
          "base_uri": "https://localhost:8080/"
        },
        "id": "UmGXCEsX_orm",
        "outputId": "cdeace61-71d9-4575-cc2d-1d3e67770f03"
      },
      "execution_count": null,
      "outputs": [
        {
          "output_type": "stream",
          "name": "stdout",
          "text": [
            "0, 1, 2, 3, 4, 5, 6, 7, 8, 9, 10, 11, 12, 13, 14, 15, 16, 17, 18, 19, 20, 21, 22, 23, 24, 25, 26, 27, 28, 29, 30, 31, 32, 33, 34, 35, 36, 37, 38, 39, 40, 41, 42, 43, 44, 45, 46, 47, 48, 49, 50, 51, 52, 53, 54, 55, 56, 57, 58, 59, 60, 61, 62, 63, 64, 65, 66, 67, 68, 69, 70, 71, 72, 73, 74, 75, 76, 77, 78, 79, 80, 81, 82, 83, 84, 85, 86, 87, 88, 89, 90, 91, 92, 93, 94, 95, 96, 97, 98, 99, 100, 101, 102, 103, 104, 105, 106, 107, 108, 109, 110, 111, 112, 113, 114, 115, 116, 117, 118, 119, 120, 121, 122, 123, 124, 125, 126, 127, 128, 129, 130, 131, 132, 133, 134, 135, 136, 137, 138, 139, 140, 141, 142, 143, 144, 145, 146, 147, 148, 149, 150, 151, 152, 153, 154, 155, 156, 157, 158, 159, 160, 161, 162, 163, 164, 165, 166, 167, 168, 169, 170, 171, 172, 173, 174, 175, 176, 177, 178, 179, 180, 181, 182, 183, 184, 185, 186, 187, 188, 189, 190, 191, 192, 193, 194, 195, 196, 197, 198, 199, 200, 201, 202, 203, 204, 205, 206, 207, 208, 209, 210, 211, 212, 213, 214, 215, 216, 217, 218, 219, 220, 221, 222, 223, 224, 225, 226, 227, 228, 229, 230, 231, 232, 233, 234, 235, 236, 237, 238, 239, 240, 241, 242, 243, 244, 245, 246, 247, 248, 249, 250, 251, 252, 253, 254, 255, 256, 257, 258, 259, 260, 261, 262, 263, 264, 265, 266, 267, 268, 269, 270, 271, 272, 273, 274, 275, 276, 277, 278, 279, 280, 281, 282, 283, 284, 285, 286, 287, 288, 289, 290, 291, 292, 293, 294, 295, 296, 297, 298, 299, 300, 301, 302, 303, 304, 305, 306, 307, 308, 309, 310, 311, 312, 313, 314, 315, 316, 317, 318, 319, 320, 321, 322, 323, 324, 325, 326, 327, 328, 329, 330, 331, 332, 333, 334, 335, 336, 337, 338, 339, 340, 341, 342, 343, 344, 345, 346, 347, 348, 349, 350, 351, 352, 353, 354, 355, 356, 357, 358, 359, 360, 361, 362, 363, 364, 365, 366, 367, 368, 369, 370, 371, 372, 373, 374, 375, 376, 377, 378, 379, 380, 381, 382, 383, 384, 385, 386, 387, 388, 389, 390, 391, 392, 393, 394, 395, 396, 397, 398, 399, 400, 401, 402, 403, 404, 405, 406, 407, 408, 409, 410, 411, 412, 413, 414, 415, 416, 417, 418, 419, 420, 421, 422, 423, 424, 425, 426, 427, 428, 429, 430, 431, 432, 433, 434, 435, 436, 437, 438, 439, 440, 441, 442, 443, 444, 445, 446, 447, 448, 449, 450, 451, 452, 453, 454, 455, 456, 457, 458, 459, 460, 461, 462, 463, 464, 465, 466, 467, 468, 469, 470, 471, 472, 473, 474, 475, 476, 477, 478, 479, 480, 481, 482, 483, 484, 485, 486, 487, 488, 489, 490, 491, 492, 493, 494, 495, 496, 497, 498, 499, 500, 501, 502, 503, 504, 505, 506, 507, 508, 509, 510, 511, 512, 513, 514, 515, 516, 517, 518, 519, 520, 521, 522, 523, 524, 525, 526, 527, 528, 529, 530, 531, 532, 533, 534, 535, 536, 537, 538, 539, 540, 541, 542, 543, 544, 545, 546, 547, 548, 549, 550, 551, 552, 553, 554, 555, 556, 557, 558, 559, 560, 561, 562, 563, 564, 565, 566, 567, 568, 569, 570, 571, 572, 573, 574, 575, 576, 577, 578, 579, 580, 581, 582, 583, 584, 585, 586, 587, 588, 589, 590, 591, 592, 593, 594, 595, 596, 597, 598, 599, 600, 601, 602, 603, 604, 605, 606, 607, 608, 609, 610, 611, 612, 613, 614, 615, 616, 617, 618, 619, 620, 621, 622, 623, 624, 625, 626, 627, 628, 629, 630, 631, 632, 633, 634, 635, 636, 637, 638, 639, 640, 641, 642, 643, 644, 645, 646, 647, 648, 649, 650, 651, 652, 653, 654, 655, 656, 657, 658, 659, 660, 661, 662, 663, 664, 665, 666, 667, 668, 669, 670, 671, 672, 673, 674, 675, 676, 677, 678, 679, 680, 681, 682, 683, 684, 685, 686, 687, 688, 689, 690, 691, 692, 693, 694, 695, 696, 697, 698, 699, 700, 701, 702, 703, 704, 705, 706, 707, 708, 709, 710, 711, 712, 713, 714, 715, 716, 717, 718, 719, 720, 721, 722, 723, 724, 725, 726, 727, 728, 729, 730, 731, 732, 733, 734, 735, 736, 737, 738, 739, 740, 741, 742, 743, 744, 745, 746, 747, 748, 749, 750, 751, 752, 753, 754, 755, 756, 757, 758, 759, 760, 761, 762, 763, 764, 765, 766, 767, 768, 769, 770, 771, 772, 773, 774, 775, 776, 777, 778, 779, 780, 781, 782, 783, 784, 785, 786, 787, 788, 789, 790, 791, 792, 793, 794, 795, 796, 797, 798, 799, 800, 801, 802, 803, 804, 805, 806, 807, 808, 809, 810, 811, 812, 813, 814, 815, 816, 817, 818, 819, 820, 821, 822, 823, 824, 825, 826, 827, 828, 829, 830, 831, 832, 833, 834, 835, 836, 837, 838, 839, 840, 841, 842, 843, 844, 845, 846, 847, 848, 849, 850, 851, 852, 853, 854, 855, 856, 857, 858, 859, 860, 861, 862, 863, 864, 865, 866, 867, 868, 869, 870, 871, 872, 873, 874, 875, 876, 877, 878, 879, 880, 881, 882, 883, 884, 885, 886, 887, 888, 889, 890, 891, 892, 893, 894, 895, 896, 897, 898, 899, 900, 901, 902, 903, 904, 905, 906, 907, 908, 909, 910, 911, 912, 913, 914, 915, 916, 917, 918, 919, 920, 921, 922, 923, 924, 925, 926, 927, 928, 929, 930, 931, 932, 933, 934, 935, 936, 937, 938, 939, 940, 941, 942, 943, 944, 945, 946, 947, 948, 949, 950, 951, 952, 953, 954, 955, 956, 957, 958, 959, 960, 961, 962, 963, 964, 965, 966, 967, 968, 969, 970, 971, 972, 973, 974, 975, 976, 977, 978, 979, 980, 981, 982, 983, 984, 985, 986, 987, 988, 989, 990, 991, 992, 993, 994, 995, 996, 997, 998, 999, 1000, 1001, 1002, 1003, 1004, 1005, 1006, 1007, 1008, 1009, 1010, 1011, 1012, 1013, 1014, 1015, 1016, 1017, 1018, 1019, 1020, 1021, 1022, 1023, 1024, 1025, 1026, 1027, 1028, 1029, 1030, 1031, 1032, 1033, 1034, 1035, 1036, 1037, 1038, 1039, 1040, 1041, 1042, 1043, 1044, 1045, 1046, 1047, 1048, 1049, 1050, 1051, 1052, 1053, 1054, 1055, 1056, 1057, 1058, 1059, 1060, 1061, 1062, 1063, 1064, 1065, 1066, 1067, 1068, 1069, 1070, 1071, 1072, 1073, 1074, 1075, 1076, 1077, 1078, 1079, 1080, 1081, 1082, 1083, 1084, 1085, 1086, 1087, 1088, 1089, 1090, 1091, 1092, 1093, 1094, 1095, 1096, 1097, 1098, 1099, 1100, 1101, 1102, 1103, 1104, 1105, 1106, 1107, 1108, 1109, 1110, 1111, 1112, 1113, 1114, 1115, 1116, 1117, 1118, 1119, 1120, 1121, 1122, 1123, 1124, 1125, 1126, 1127, 1128, 1129, 1130, 1131, 1132, 1133, 1134, 1135, 1136, 1137, 1138, 1139, 1140, 1141, 1142, 1143, 1144, 1145, 1146, 1147, 1148, 1149, 1150, 1151, 1152, 1153, 1154, 1155, 1156, 1157, 1158, 1159, 1160, 1161, 1162, 1163, 1164, 1165, 1166, 1167, 1168, 1169, 1170, 1171, 1172, 1173, 1174, 1175, 1176, 1177, 1178, 1179, 1180, 1181, 1182, 1183, 1184, 1185, 1186, 1187, 1188, 1189, 1190, 1191, 1192, 1193, 1194, 1195, 1196, 1197, 1198, 1199, 1200, 1201, 1202, 1203, 1204, 1205, 1206, 1207, 1208, 1209, 1210, 1211, 1212, 1213, 1214, 1215, 1216, 1217, 1218, 1219, 1220, 1221, 1222, 1223, 1224, 1225, 1226, 1227, 1228, 1229, 1230, 1231, 1232, 1233, 1234, 1235, 1236, 1237, 1238, 1239, 1240, 1241, 1242, 1243, 1244, 1245, 1246, 1247, 1248, 1249, 1250, 1251, 1252, 1253, 1254, 1255, 1256, 1257, 1258, 1259, 1260, 1261, 1262, 1263, 1264, 1265, 1266, 1267, 1268, 1269, 1270, 1271, 1272, 1273, 1274, 1275, 1276, 1277, 1278, 1279, 1280, 1281, 1282, 1283, 1284, 1285, 1286, 1287, 1288, 1289, 1290, 1291, 1292, 1293, 1294, 1295, 1296, 1297, 1298, 1299, 1300, 1301, 1302, 1303, 1304, 1305, 1306, 1307, 1308, 1309, 1310, 1311, 1312, 1313, 1314, 1315, 1316, 1317, 1318, 1319, 1320, 1321, 1322, 1323, 1324, 1325, 1326, 1327, 1328, 1329, 1330, 1331, 1332, 1333, 1334, 1335, 1336, 1337, 1338, 1339, 1340, 1341, 1342, 1343, 1344, 1345, 1346, 1347, 1348, 1349, 1350, 1351, 1352, 1353, 1354, 1355, 1356, 1357, 1358, 1359, 1360, 1361, 1362, 1363, 1364, 1365, 1366, 1367, 1368, 1369, 1370, 1371, 1372, 1373, 1374, 1375, 1376, 1377, 1378, 1379, 1380, 1381, 1382, 1383, 1384, 1385, 1386, 1387, 1388, 1389, 1390, 1391, 1392, 1393, 1394, 1395, 1396, 1397, 1398, 1399, 1400, 1401, 1402, 1403, 1404, 1405, 1406, 1407, 1408, 1409, 1410, 1411, 1412, 1413, 1414, 1415, 1416, 1417, 1418, 1419, 1420, 1421, 1422, 1423, 1424, 1425, 1426, 1427, 1428, 1429, 1430, 1431, 1432, 1433, 1434, 1435, 1436, 1437, 1438, 1439, 1440, 1441, 1442, 1443, 1444, 1445, 1446, 1447, 1448, 1449, 1450, 1451, 1452, 1453, 1454, 1455, 1456, 1457, 1458, 1459, 1460, 1461, 1462, 1463, 1464, 1465, 1466, 1467, 1468, 1469, 1470, 1471, 1472, 1473, 1474, 1475, 1476, 1477, 1478, 1479, 1480, 1481, 1482, 1483, 1484, 1485, 1486, 1487, 1488, 1489, 1490, 1491, 1492, 1493, 1494, 1495, 1496, 1497, 1498, 1499, 1500, 1501, 1502, 1503, 1504, 1505, 1506, 1507, 1508, 1509, 1510, 1511, 1512, 1513, 1514, 1515, 1516, 1517, 1518, 1519, 1520, 1521, 1522, 1523, 1524, 1525, 1526, 1527, 1528, 1529, 1530, 1531, 1532, 1533, 1534, 1535, 1536, 1537, 1538, 1539, 1540, 1541, 1542, 1543, 1544, 1545, 1546, 1547, 1548, 1549, 1550, 1551, 1552, 1553, 1554, 1555, 1556, 1557, 1558, 1559, 1560, 1561, 1562, 1563, 1564, 1565, 1566, 1567, 1568, 1569, 1570, 1571, 1572, 1573, 1574, 1575, 1576, 1577, 1578, 1579, 1580, 1581, 1582, 1583, 1584, 1585, 1586, 1587, 1588, 1589, 1590, 1591, 1592, 1593, 1594, 1595, 1596, 1597, 1598, 1599, 1600, 1601, 1602, 1603, 1604, 1605, 1606, 1607, 1608, 1609, 1610, 1611, 1612, 1613, 1614, 1615, 1616, 1617, 1618, 1619, 1620, 1621, 1622, 1623, 1624, 1625, 1626, 1627, 1628, 1629, 1630, 1631, 1632, 1633, 1634, 1635, 1636, 1637, 1638, 1639, 1640, 1641, 1642, 1643, 1644, 1645, 1646, 1647, 1648, 1649, 1650, 1651, 1652, 1653, 1654, 1655, 1656, 1657, 1658, 1659, 1660, 1661, 1662, 1663, 1664, 1665, 1666, 1667, 1668, 1669, 1670, 1671, 1672, 1673, 1674, 1675, 1676, 1677, 1678, 1679, 1680, 1681, 1682, 1683, 1684, 1685, 1686, 1687, 1688, 1689, 1690, 1691, 1692, 1693, 1694, 1695, 1696, 1697, 1698, 1699, 1700, 1701, 1702, 1703, 1704, 1705, 1706, 1707, "
          ]
        }
      ]
    },
    {
      "cell_type": "markdown",
      "source": [
        "Convert to a numpy array"
      ],
      "metadata": {
        "id": "SpUgUguRiB2s"
      }
    },
    {
      "cell_type": "code",
      "source": [
        "# Convert to a numpy array\n",
        "y_pred = np.array(y_pred)\n",
        "y_true = np.array(y_true)\n",
        "\n",
        "# Print the shape of the numpy arrays\n",
        "print(f'y_pred.shape: {y_pred.shape}')\n",
        "print(f'y_true.shape: {y_true.shape}')"
      ],
      "metadata": {
        "id": "zpsnXReTEhpp",
        "colab": {
          "base_uri": "https://localhost:8080/"
        },
        "outputId": "658596fa-ae5f-4d7e-86d9-62340e184b3f"
      },
      "execution_count": null,
      "outputs": [
        {
          "output_type": "stream",
          "name": "stdout",
          "text": [
            "y_pred.shape: (1708,)\n",
            "y_true.shape: (1708,)\n"
          ]
        }
      ]
    },
    {
      "cell_type": "markdown",
      "source": [
        "#### Save predictions and labels"
      ],
      "metadata": {
        "id": "rUBTcoigrTDp"
      }
    },
    {
      "cell_type": "code",
      "source": [
        "np.save(Y_PRED_FILEPATH, y_pred)\n",
        "np.save(Y_TRUE_FILEPATH, y_true)"
      ],
      "metadata": {
        "id": "4W-B8vK8rSRB"
      },
      "execution_count": null,
      "outputs": []
    },
    {
      "cell_type": "markdown",
      "source": [
        "### Evaluate model performance"
      ],
      "metadata": {
        "id": "Q7ui21O9kBog"
      }
    },
    {
      "cell_type": "markdown",
      "source": [
        "#### Load predictions and labels"
      ],
      "metadata": {
        "id": "6_oYqk-vvGwC"
      }
    },
    {
      "cell_type": "markdown",
      "source": [
        "##### Download predictions and labels numpy files"
      ],
      "metadata": {
        "id": "hv-1U3_ks5wk"
      }
    },
    {
      "cell_type": "code",
      "source": [
        "%%script echo skipping\n",
        "!pip install -U --no-cache-dir gdown --pre\n",
        "!gdown --id 1OdCetSA_KoH2oW15Z1RCxK0wT0FhOjBE\n",
        "!gdown --id 1_0j5HiGNq8glBAOr0BmeA99vdOmrZaxN"
      ],
      "metadata": {
        "id": "bY8r0435udbq"
      },
      "execution_count": null,
      "outputs": []
    },
    {
      "cell_type": "markdown",
      "source": [
        "##### Load predictions and labels numpy arrays"
      ],
      "metadata": {
        "id": "nigFhu1RumtP"
      }
    },
    {
      "cell_type": "code",
      "source": [
        "%%script echo skipping\n",
        "y_pred = np.load(Y_PRED_FILEPATH)\n",
        "y_true = np.load(Y_TRUE_FILEPATH)"
      ],
      "metadata": {
        "id": "ieGpgsd3s6AS"
      },
      "execution_count": null,
      "outputs": []
    },
    {
      "cell_type": "markdown",
      "source": [
        "#### Present evaluation metrics"
      ],
      "metadata": {
        "id": "DfMaq_FxvNWK"
      }
    },
    {
      "cell_type": "markdown",
      "source": [
        "Define custom evaluation function"
      ],
      "metadata": {
        "id": "ecPKoVL8h8Cq"
      }
    },
    {
      "cell_type": "code",
      "source": [
        "def evaluate_performance(y_true, y_pred, name):\n",
        "  data = []\n",
        "\n",
        "  # Calculate Accuracy and Balanced Accuracy Scores\n",
        "  accuracy = metrics.accuracy_score(y_true, y_pred) # accuracy is biased towards the majority class\n",
        "  balanced_accuracy = metrics.balanced_accuracy_score(y_true, y_pred) # balanced accuracy is great for imbalanced datasets\n",
        "\n",
        "  # Calculate Precision (both weighted and macro)\n",
        "  weighted_precision = metrics.precision_score(y_true, y_pred, average='weighted')\n",
        "  macro_precision = metrics.precision_score(y_true, y_pred, average='macro')\n",
        "  \n",
        "  # Calculate Recall Score (both weighted and macro)\n",
        "  weighted_recall = metrics.recall_score(y_true, y_pred, average='weighted')\n",
        "  macro_recall = metrics.recall_score(y_true, y_pred, average='macro')\n",
        "\n",
        "  # Calculate F1 Score (both weighted and macro)\n",
        "  weighted_f1 = metrics.f1_score(y_true, y_pred, average='weighted')\n",
        "  macro_f1 = metrics.f1_score(y_true, y_pred, average='macro')\n",
        "\n",
        "  data.append(round(accuracy, 4))\n",
        "  data.append(round(balanced_accuracy, 4))\n",
        "  data.append(round(weighted_precision, 4))\n",
        "  data.append(round(macro_precision, 4))\n",
        "  data.append(round(weighted_recall, 4))\n",
        "  data.append(round(macro_recall, 4))\n",
        "  data.append(round(weighted_f1, 4))\n",
        "  data.append(round(macro_f1, 4))\n",
        "\n",
        "  column_labels_row1 = [\"Accuracy\", \"Balanced Accuracy\",\n",
        "                        \"Weighted Precision\", \"Macro Precision\"]\n",
        "  column_labels_row2 = [\"Weighted Recall\", \"Macro Recall\",\n",
        "                        \"Weighted F1\", \"Macro F1\"]\n",
        "\n",
        "  fig, ax = plt.subplots(2, 1, figsize=(3, 3))\n",
        "  fig.subplots_adjust(hspace=0.1, wspace=0.1)\n",
        "  df_row1=pd.DataFrame([data[:4]], columns=column_labels_row1)\n",
        "  df_row2=pd.DataFrame([data[4:]], columns=column_labels_row2)\n",
        "  \n",
        "  ax[0].axis('tight')\n",
        "  ax[0].axis('off')\n",
        "  cellColours_row1 = [['white']*len(column_labels_row1)]\n",
        "  mytable_row1 = ax[0].table(cellText=df_row1.values, colLabels=df_row1.columns, rowLabels=[\"\"],\n",
        "                     cellColours=cellColours_row1, loc=\"center\", cellLoc='center',\n",
        "                     colColours=[\"white\"]*len(column_labels_row1), rowColours='white')\n",
        "  mytable_row1.auto_set_column_width(col=list(range(len(df_row1.columns))))\n",
        "  mytable_row1.auto_set_font_size(False)\n",
        "  mytable_row1.set_fontsize(20)\n",
        "  mytable_row1.scale(3, 3)\n",
        "  \n",
        "  ax[1].axis('tight')\n",
        "  ax[1].axis('off')\n",
        "  cellColours_row2 = [['white']*len(column_labels_row2)]\n",
        "  mytable_row2 = ax[1].table(cellText=df_row2.values, colLabels=df_row2.columns, rowLabels=[\"\"],\n",
        "                     cellColours=cellColours_row2, loc=\"center\", cellLoc='center',\n",
        "                     colColours=[\"white\"]*len(column_labels_row2), rowColours='white')\n",
        "  mytable_row2.auto_set_column_width(col=list(range(len(df_row2.columns))))\n",
        "  mytable_row2.auto_set_font_size(False)\n",
        "  mytable_row2.set_fontsize(20)\n",
        "  mytable_row2.scale(3, 3)\n",
        "\n",
        "  plt.show()"
      ],
      "metadata": {
        "id": "NxE6rUYejcZu"
      },
      "execution_count": null,
      "outputs": []
    },
    {
      "cell_type": "markdown",
      "source": [
        "Calculate and present evaluation metrics"
      ],
      "metadata": {
        "id": "DmytGlz6kY7A"
      }
    },
    {
      "cell_type": "code",
      "source": [
        "evaluate_performance(y_true, y_pred, 'j2-grande')"
      ],
      "metadata": {
        "colab": {
          "base_uri": "https://localhost:8080/",
          "height": 257
        },
        "id": "2hijqtD2K6Pj",
        "outputId": "85c7ee04-e3c6-4406-dcad-c35e400c3f70"
      },
      "execution_count": null,
      "outputs": [
        {
          "output_type": "display_data",
          "data": {
            "text/plain": [
              "<Figure size 300x300 with 2 Axes>"
            ],
            "image/png": "[encoded data removed]"
          },
          "metadata": {}
        }
      ]
    },
    {
      "cell_type": "markdown",
      "source": [
        "Print confusion matrix"
      ],
      "metadata": {
        "id": "1Suv7i0aJ48D"
      }
    },
    {
      "cell_type": "code",
      "source": [
        "cm = metrics.confusion_matrix(y_true, y_pred)\n",
        "cm"
      ],
      "metadata": {
        "colab": {
          "base_uri": "https://localhost:8080/"
        },
        "id": "izlC5eDwHkpi",
        "outputId": "869e8012-f756-46c3-d5b5-362fa6b26e46"
      },
      "execution_count": null,
      "outputs": [
        {
          "output_type": "execute_result",
          "data": {
            "text/plain": [
              "array([[ 20,   1,   0,   0,   1,   0,   0,   0,   2,   4,   0,   1,   0,\n",
              "          0,   0,   1],\n",
              "       [  1,  78,   1,   4,   1,   1,   0,   0,   2,   9,   1,   3,   0,\n",
              "          0,   0,   1],\n",
              "       [  0,   1,  20,   1,   0,   0,   2,   0,   0,   0,   2,   0,   0,\n",
              "          1,   0,   0],\n",
              "       [  0,   6,   2,  76,   0,   0,   1,   1,   2,   4,   4,   5,   0,\n",
              "          0,   0,   1],\n",
              "       [  0,   0,   1,   1,   4,   1,   0,   0,   1,   0,   1,   0,   1,\n",
              "          0,   0,   0],\n",
              "       [  0,   0,   0,   2,   0,   4,   0,   0,   1,   0,   0,   0,   0,\n",
              "          0,   0,   0],\n",
              "       [  0,   0,   1,   0,   0,   0,   4,   0,   0,   0,   0,   1,   0,\n",
              "          0,   0,   0],\n",
              "       [  0,   0,   1,   0,   0,   0,   0,  10,   1,   0,   1,   0,   1,\n",
              "          0,   0,   0],\n",
              "       [  2,   3,   0,   2,   0,   0,   0,   2, 208,  21,  15,  12,   0,\n",
              "          1,   2,   2],\n",
              "       [  1,  13,   5,  10,   0,   1,   1,   1,  24, 510,  18,  27,   4,\n",
              "          5,   3,   9],\n",
              "       [  1,   1,   3,   3,   0,   1,   1,   1,   7,   1, 141,  14,   1,\n",
              "          1,   1,   1],\n",
              "       [  0,   3,   2,   8,   0,   1,   0,   1,   4,   9,   8, 164,   1,\n",
              "          1,   1,   4],\n",
              "       [  1,   0,   0,   0,   1,   0,   0,   0,   1,   0,   1,   5,  14,\n",
              "          1,   0,   0],\n",
              "       [  0,   1,   0,   3,   0,   0,   0,   0,   0,   3,   0,   0,   1,\n",
              "         22,   0,   1],\n",
              "       [  0,   0,   0,   0,   0,   0,   0,   0,   0,   0,   1,   2,   0,\n",
              "          0,  19,   0],\n",
              "       [  0,   0,   0,   1,   0,   1,   0,   0,   0,   1,   1,   2,   0,\n",
              "          1,   2,  37]])"
            ]
          },
          "metadata": {},
          "execution_count": 71
        }
      ]
    },
    {
      "cell_type": "markdown",
      "source": [
        "Print classification report"
      ],
      "metadata": {
        "id": "Rrd4yr1eJ-vG"
      }
    },
    {
      "cell_type": "code",
      "source": [
        "cr = metrics.classification_report(y_true, y_pred)\n",
        "cr"
      ],
      "metadata": {
        "colab": {
          "base_uri": "https://localhost:8080/",
          "height": 196
        },
        "id": "1T7WyZdpJY8D",
        "outputId": "8225eaca-20f6-45ad-e3b1-b865bf813725"
      },
      "execution_count": null,
      "outputs": [
        {
          "output_type": "execute_result",
          "data": {
            "text/plain": [
              "'              precision    recall  f1-score   support\\n\\n           0       0.77      0.67      0.71        30\\n           1       0.73      0.76      0.75       102\\n           2       0.56      0.74      0.63        27\\n           3       0.68      0.75      0.71       102\\n           4       0.57      0.40      0.47        10\\n           5       0.40      0.57      0.47         7\\n           6       0.44      0.67      0.53         6\\n           7       0.62      0.71      0.67        14\\n           8       0.82      0.77      0.80       270\\n           9       0.91      0.81      0.85       632\\n          10       0.73      0.79      0.76       178\\n          11       0.69      0.79      0.74       207\\n          12       0.61      0.58      0.60        24\\n          13       0.67      0.71      0.69        31\\n          14       0.68      0.86      0.76        22\\n          15       0.65      0.80      0.72        46\\n\\n    accuracy                           0.78      1708\\n   macro avg       0.66      0.71      0.68      1708\\nweighted avg       0.79      0.78      0.78      1708\\n'"
            ],
            "application/vnd.google.colaboratory.intrinsic+json": {
              "type": "string"
            }
          },
          "metadata": {},
          "execution_count": 72
        }
      ]
    }
  ],
  "metadata": {
    "colab": {
      "machine_shape": "hm",
      "provenance": [],
      "collapsed_sections": [
        "iVCmLfqI7vuW",
        "hDgZZiJp7332",
        "rJjGtmBC5v7i",
        "hbyZsMIW77Yv",
        "iboFn1SX8pKZ",
        "ctnHPY-l8e-z",
        "vDnmTIcS8MaE",
        "sYOUxGtG9ACB",
        "iNW5uoAh7ssn",
        "8X_4_CvSX15y",
        "R4Tgm7fc-w0H",
        "wUo6J3sw9C8-",
        "xeTxWx5Z9Vug",
        "Qq3CHb-19cyU",
        "DOX6DAJA22_x",
        "c3e2SoRAAfIa",
        "Ln3dnf1nAiri",
        "LGsm1ILSAoJy",
        "glCdGYxReeZY",
        "gKhg97L1eU9V",
        "Zs2r5Wfafned",
        "V0pnt4-fh9ap",
        "Q7ui21O9kBog",
        "6_oYqk-vvGwC",
        "hv-1U3_ks5wk",
        "nigFhu1RumtP",
        "DfMaq_FxvNWK"
      ]
    },
    "gpuClass": "standard",
    "kernelspec": {
      "display_name": "Python 3",
      "name": "python3"
    },
    "language_info": {
      "name": "python"
    },
    "widgets": {
      "application/vnd.jupyter.widget-state+json": {
        "46c15136c6c24a8fa47a6670f38edc68": {
          "model_module": "@jupyter-widgets/controls",
          "model_name": "HBoxModel",
          "model_module_version": "1.5.0",
          "state": {
            "_dom_classes": [],
            "_model_module": "@jupyter-widgets/controls",
            "_model_module_version": "1.5.0",
            "_model_name": "HBoxModel",
            "_view_count": null,
            "_view_module": "@jupyter-widgets/controls",
            "_view_module_version": "1.5.0",
            "_view_name": "HBoxView",
            "box_style": "",
            "children": [
              "IPY_MODEL_5687f61a1ba64a728e63b4f3157b2539",
              "IPY_MODEL_bd5c58885f8c4704b62c7a08f126a4d6",
              "IPY_MODEL_6fdc946143ca479aa42e5ae202292852"
            ],
            "layout": "IPY_MODEL_fa73c81be9294658b8f7fe84172d67b3"
          }
        },
        "5687f61a1ba64a728e63b4f3157b2539": {
          "model_module": "@jupyter-widgets/controls",
          "model_name": "HTMLModel",
          "model_module_version": "1.5.0",
          "state": {
            "_dom_classes": [],
            "_model_module": "@jupyter-widgets/controls",
            "_model_module_version": "1.5.0",
            "_model_name": "HTMLModel",
            "_view_count": null,
            "_view_module": "@jupyter-widgets/controls",
            "_view_module_version": "1.5.0",
            "_view_name": "HTMLView",
            "description": "",
            "description_tooltip": null,
            "layout": "IPY_MODEL_cfc9171554d24ae9adc0756899157fa0",
            "placeholder": "​",
            "style": "IPY_MODEL_a6a77245f5d54ed19cbfcbeced235bd5",
            "value": "100%"
          }
        },
        "bd5c58885f8c4704b62c7a08f126a4d6": {
          "model_module": "@jupyter-widgets/controls",
          "model_name": "FloatProgressModel",
          "model_module_version": "1.5.0",
          "state": {
            "_dom_classes": [],
            "_model_module": "@jupyter-widgets/controls",
            "_model_module_version": "1.5.0",
            "_model_name": "FloatProgressModel",
            "_view_count": null,
            "_view_module": "@jupyter-widgets/controls",
            "_view_module_version": "1.5.0",
            "_view_name": "ProgressView",
            "bar_style": "success",
            "description": "",
            "description_tooltip": null,
            "layout": "IPY_MODEL_a2bd88bf6fb243c3a21125bdbaa64dff",
            "max": 8675,
            "min": 0,
            "orientation": "horizontal",
            "style": "IPY_MODEL_07b028224cce405b9f17bbdca8e069a3",
            "value": 8675
          }
        },
        "6fdc946143ca479aa42e5ae202292852": {
          "model_module": "@jupyter-widgets/controls",
          "model_name": "HTMLModel",
          "model_module_version": "1.5.0",
          "state": {
            "_dom_classes": [],
            "_model_module": "@jupyter-widgets/controls",
            "_model_module_version": "1.5.0",
            "_model_name": "HTMLModel",
            "_view_count": null,
            "_view_module": "@jupyter-widgets/controls",
            "_view_module_version": "1.5.0",
            "_view_name": "HTMLView",
            "description": "",
            "description_tooltip": null,
            "layout": "IPY_MODEL_d9846fd0d1f94938b26dcae90db52da8",
            "placeholder": "​",
            "style": "IPY_MODEL_fd3dc34058be46d78470fd150a4ed3f7",
            "value": " 8675/8675 [00:33&lt;00:00, 308.21it/s]"
          }
        },
        "fa73c81be9294658b8f7fe84172d67b3": {
          "model_module": "@jupyter-widgets/base",
          "model_name": "LayoutModel",
          "model_module_version": "1.2.0",
          "state": {
            "_model_module": "@jupyter-widgets/base",
            "_model_module_version": "1.2.0",
            "_model_name": "LayoutModel",
            "_view_count": null,
            "_view_module": "@jupyter-widgets/base",
            "_view_module_version": "1.2.0",
            "_view_name": "LayoutView",
            "align_content": null,
            "align_items": null,
            "align_self": null,
            "border": null,
            "bottom": null,
            "display": null,
            "flex": null,
            "flex_flow": null,
            "grid_area": null,
            "grid_auto_columns": null,
            "grid_auto_flow": null,
            "grid_auto_rows": null,
            "grid_column": null,
            "grid_gap": null,
            "grid_row": null,
            "grid_template_areas": null,
            "grid_template_columns": null,
            "grid_template_rows": null,
            "height": null,
            "justify_content": null,
            "justify_items": null,
            "left": null,
            "margin": null,
            "max_height": null,
            "max_width": null,
            "min_height": null,
            "min_width": null,
            "object_fit": null,
            "object_position": null,
            "order": null,
            "overflow": null,
            "overflow_x": null,
            "overflow_y": null,
            "padding": null,
            "right": null,
            "top": null,
            "visibility": null,
            "width": null
          }
        },
        "cfc9171554d24ae9adc0756899157fa0": {
          "model_module": "@jupyter-widgets/base",
          "model_name": "LayoutModel",
          "model_module_version": "1.2.0",
          "state": {
            "_model_module": "@jupyter-widgets/base",
            "_model_module_version": "1.2.0",
            "_model_name": "LayoutModel",
            "_view_count": null,
            "_view_module": "@jupyter-widgets/base",
            "_view_module_version": "1.2.0",
            "_view_name": "LayoutView",
            "align_content": null,
            "align_items": null,
            "align_self": null,
            "border": null,
            "bottom": null,
            "display": null,
            "flex": null,
            "flex_flow": null,
            "grid_area": null,
            "grid_auto_columns": null,
            "grid_auto_flow": null,
            "grid_auto_rows": null,
            "grid_column": null,
            "grid_gap": null,
            "grid_row": null,
            "grid_template_areas": null,
            "grid_template_columns": null,
            "grid_template_rows": null,
            "height": null,
            "justify_content": null,
            "justify_items": null,
            "left": null,
            "margin": null,
            "max_height": null,
            "max_width": null,
            "min_height": null,
            "min_width": null,
            "object_fit": null,
            "object_position": null,
            "order": null,
            "overflow": null,
            "overflow_x": null,
            "overflow_y": null,
            "padding": null,
            "right": null,
            "top": null,
            "visibility": null,
            "width": null
          }
        },
        "a6a77245f5d54ed19cbfcbeced235bd5": {
          "model_module": "@jupyter-widgets/controls",
          "model_name": "DescriptionStyleModel",
          "model_module_version": "1.5.0",
          "state": {
            "_model_module": "@jupyter-widgets/controls",
            "_model_module_version": "1.5.0",
            "_model_name": "DescriptionStyleModel",
            "_view_count": null,
            "_view_module": "@jupyter-widgets/base",
            "_view_module_version": "1.2.0",
            "_view_name": "StyleView",
            "description_width": ""
          }
        },
        "a2bd88bf6fb243c3a21125bdbaa64dff": {
          "model_module": "@jupyter-widgets/base",
          "model_name": "LayoutModel",
          "model_module_version": "1.2.0",
          "state": {
            "_model_module": "@jupyter-widgets/base",
            "_model_module_version": "1.2.0",
            "_model_name": "LayoutModel",
            "_view_count": null,
            "_view_module": "@jupyter-widgets/base",
            "_view_module_version": "1.2.0",
            "_view_name": "LayoutView",
            "align_content": null,
            "align_items": null,
            "align_self": null,
            "border": null,
            "bottom": null,
            "display": null,
            "flex": null,
            "flex_flow": null,
            "grid_area": null,
            "grid_auto_columns": null,
            "grid_auto_flow": null,
            "grid_auto_rows": null,
            "grid_column": null,
            "grid_gap": null,
            "grid_row": null,
            "grid_template_areas": null,
            "grid_template_columns": null,
            "grid_template_rows": null,
            "height": null,
            "justify_content": null,
            "justify_items": null,
            "left": null,
            "margin": null,
            "max_height": null,
            "max_width": null,
            "min_height": null,
            "min_width": null,
            "object_fit": null,
            "object_position": null,
            "order": null,
            "overflow": null,
            "overflow_x": null,
            "overflow_y": null,
            "padding": null,
            "right": null,
            "top": null,
            "visibility": null,
            "width": null
          }
        },
        "07b028224cce405b9f17bbdca8e069a3": {
          "model_module": "@jupyter-widgets/controls",
          "model_name": "ProgressStyleModel",
          "model_module_version": "1.5.0",
          "state": {
            "_model_module": "@jupyter-widgets/controls",
            "_model_module_version": "1.5.0",
            "_model_name": "ProgressStyleModel",
            "_view_count": null,
            "_view_module": "@jupyter-widgets/base",
            "_view_module_version": "1.2.0",
            "_view_name": "StyleView",
            "bar_color": null,
            "description_width": ""
          }
        },
        "d9846fd0d1f94938b26dcae90db52da8": {
          "model_module": "@jupyter-widgets/base",
          "model_name": "LayoutModel",
          "model_module_version": "1.2.0",
          "state": {
            "_model_module": "@jupyter-widgets/base",
            "_model_module_version": "1.2.0",
            "_model_name": "LayoutModel",
            "_view_count": null,
            "_view_module": "@jupyter-widgets/base",
            "_view_module_version": "1.2.0",
            "_view_name": "LayoutView",
            "align_content": null,
            "align_items": null,
            "align_self": null,
            "border": null,
            "bottom": null,
            "display": null,
            "flex": null,
            "flex_flow": null,
            "grid_area": null,
            "grid_auto_columns": null,
            "grid_auto_flow": null,
            "grid_auto_rows": null,
            "grid_column": null,
            "grid_gap": null,
            "grid_row": null,
            "grid_template_areas": null,
            "grid_template_columns": null,
            "grid_template_rows": null,
            "height": null,
            "justify_content": null,
            "justify_items": null,
            "left": null,
            "margin": null,
            "max_height": null,
            "max_width": null,
            "min_height": null,
            "min_width": null,
            "object_fit": null,
            "object_position": null,
            "order": null,
            "overflow": null,
            "overflow_x": null,
            "overflow_y": null,
            "padding": null,
            "right": null,
            "top": null,
            "visibility": null,
            "width": null
          }
        },
        "fd3dc34058be46d78470fd150a4ed3f7": {
          "model_module": "@jupyter-widgets/controls",
          "model_name": "DescriptionStyleModel",
          "model_module_version": "1.5.0",
          "state": {
            "_model_module": "@jupyter-widgets/controls",
            "_model_module_version": "1.5.0",
            "_model_name": "DescriptionStyleModel",
            "_view_count": null,
            "_view_module": "@jupyter-widgets/base",
            "_view_module_version": "1.2.0",
            "_view_name": "StyleView",
            "description_width": ""
          }
        }
      }
    }
  },
  "nbformat": 4,
  "nbformat_minor": 0
}